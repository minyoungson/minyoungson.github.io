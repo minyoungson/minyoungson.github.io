{
 "cells": [
  {
   "cell_type": "code",
   "execution_count": 50,
   "id": "dd5bbe82",
   "metadata": {},
   "outputs": [],
   "source": [
    "#pip install matplotlib\n",
    "#pip install fuzzymatcher"
   ]
  },
  {
   "cell_type": "code",
   "execution_count": 51,
   "id": "8a8da6cf",
   "metadata": {},
   "outputs": [],
   "source": [
    "import pandas as pd"
   ]
  },
  {
   "cell_type": "markdown",
   "id": "c703722c",
   "metadata": {},
   "source": [
    "# Explore dataset"
   ]
  },
  {
   "cell_type": "code",
   "execution_count": 52,
   "id": "5a537198",
   "metadata": {},
   "outputs": [
    {
     "name": "stdout",
     "output_type": "stream",
     "text": [
      "(94585, 7)\n",
      "(91791, 7)\n"
     ]
    }
   ],
   "source": [
    "df_left = pd.read_csv(\"left_dataset.csv\")\n",
    "df_right = pd.read_csv(\"right_dataset.csv\")\n",
    "\n",
    "print(df_left.shape)\n",
    "print(df_right.shape)"
   ]
  },
  {
   "cell_type": "code",
   "execution_count": 53,
   "id": "5f4e4734",
   "metadata": {},
   "outputs": [
    {
     "data": {
      "text/html": [
       "<div>\n",
       "<style scoped>\n",
       "    .dataframe tbody tr th:only-of-type {\n",
       "        vertical-align: middle;\n",
       "    }\n",
       "\n",
       "    .dataframe tbody tr th {\n",
       "        vertical-align: top;\n",
       "    }\n",
       "\n",
       "    .dataframe thead th {\n",
       "        text-align: right;\n",
       "    }\n",
       "</style>\n",
       "<table border=\"1\" class=\"dataframe\">\n",
       "  <thead>\n",
       "    <tr style=\"text-align: right;\">\n",
       "      <th></th>\n",
       "      <th>entity_id</th>\n",
       "      <th>name</th>\n",
       "      <th>address</th>\n",
       "      <th>city</th>\n",
       "      <th>state</th>\n",
       "      <th>postal_code</th>\n",
       "      <th>categories</th>\n",
       "    </tr>\n",
       "  </thead>\n",
       "  <tbody>\n",
       "    <tr>\n",
       "      <th>80933</th>\n",
       "      <td>80934</td>\n",
       "      <td>Taste of Tokyo</td>\n",
       "      <td>1806 21st Ave S</td>\n",
       "      <td>Nashville</td>\n",
       "      <td>TN</td>\n",
       "      <td>37212.0</td>\n",
       "      <td>Restaurants, Sushi Bars</td>\n",
       "    </tr>\n",
       "    <tr>\n",
       "      <th>26621</th>\n",
       "      <td>26622</td>\n",
       "      <td>Party Planet</td>\n",
       "      <td>913 Lithia Pinecrest Rd</td>\n",
       "      <td>Brandon</td>\n",
       "      <td>FL</td>\n",
       "      <td>33511.0</td>\n",
       "      <td>Party Supplies, Event Planning &amp; Services</td>\n",
       "    </tr>\n",
       "    <tr>\n",
       "      <th>8077</th>\n",
       "      <td>8078</td>\n",
       "      <td>Aveda Institute St. Petersburg</td>\n",
       "      <td>235 Third St S</td>\n",
       "      <td>St. Petersburg</td>\n",
       "      <td>FL</td>\n",
       "      <td>33701.0</td>\n",
       "      <td>Hair Salons, Cosmetology Schools, Beauty &amp; Spa...</td>\n",
       "    </tr>\n",
       "    <tr>\n",
       "      <th>88589</th>\n",
       "      <td>88590</td>\n",
       "      <td>Stock</td>\n",
       "      <td>308 E Girard Ave</td>\n",
       "      <td>Philadelphia</td>\n",
       "      <td>PA</td>\n",
       "      <td>19125.0</td>\n",
       "      <td>Restaurants, Thai, Vietnamese, American (New)</td>\n",
       "    </tr>\n",
       "    <tr>\n",
       "      <th>10326</th>\n",
       "      <td>10327</td>\n",
       "      <td>Angelo's Deli Cafe</td>\n",
       "      <td>6800 N Dale Mabry Hwy, Ste 190</td>\n",
       "      <td>Tampa</td>\n",
       "      <td>FL</td>\n",
       "      <td>33614.0</td>\n",
       "      <td>Restaurants, Cuban, Delis</td>\n",
       "    </tr>\n",
       "    <tr>\n",
       "      <th>7354</th>\n",
       "      <td>7355</td>\n",
       "      <td>Applebee's Grill + Bar</td>\n",
       "      <td>5779 East Fowler Ave</td>\n",
       "      <td>Temple Terrace</td>\n",
       "      <td>FL</td>\n",
       "      <td>33617.0</td>\n",
       "      <td>Bars, American (Traditional), Sports Bars, Chi...</td>\n",
       "    </tr>\n",
       "    <tr>\n",
       "      <th>60640</th>\n",
       "      <td>60641</td>\n",
       "      <td>Walgreens</td>\n",
       "      <td>530 Cool Springs Blvd</td>\n",
       "      <td>Franklin</td>\n",
       "      <td>TN</td>\n",
       "      <td>37067.0</td>\n",
       "      <td>Food, Convenience Stores, Photography Stores &amp;...</td>\n",
       "    </tr>\n",
       "    <tr>\n",
       "      <th>54124</th>\n",
       "      <td>54125</td>\n",
       "      <td>Exotic On the Run</td>\n",
       "      <td>5299 E 38th St</td>\n",
       "      <td>Indianapolis</td>\n",
       "      <td>IN</td>\n",
       "      <td>46218.0</td>\n",
       "      <td>Seafood, Restaurants</td>\n",
       "    </tr>\n",
       "  </tbody>\n",
       "</table>\n",
       "</div>"
      ],
      "text/plain": [
       "       entity_id                            name  \\\n",
       "80933      80934                  Taste of Tokyo   \n",
       "26621      26622                    Party Planet   \n",
       "8077        8078  Aveda Institute St. Petersburg   \n",
       "88589      88590                           Stock   \n",
       "10326      10327              Angelo's Deli Cafe   \n",
       "7354        7355          Applebee's Grill + Bar   \n",
       "60640      60641                       Walgreens   \n",
       "54124      54125               Exotic On the Run   \n",
       "\n",
       "                              address            city state  postal_code  \\\n",
       "80933                 1806 21st Ave S       Nashville    TN      37212.0   \n",
       "26621         913 Lithia Pinecrest Rd         Brandon    FL      33511.0   \n",
       "8077                   235 Third St S  St. Petersburg    FL      33701.0   \n",
       "88589                308 E Girard Ave    Philadelphia    PA      19125.0   \n",
       "10326  6800 N Dale Mabry Hwy, Ste 190           Tampa    FL      33614.0   \n",
       "7354             5779 East Fowler Ave  Temple Terrace    FL      33617.0   \n",
       "60640           530 Cool Springs Blvd        Franklin    TN      37067.0   \n",
       "54124                  5299 E 38th St    Indianapolis    IN      46218.0   \n",
       "\n",
       "                                              categories  \n",
       "80933                            Restaurants, Sushi Bars  \n",
       "26621          Party Supplies, Event Planning & Services  \n",
       "8077   Hair Salons, Cosmetology Schools, Beauty & Spa...  \n",
       "88589      Restaurants, Thai, Vietnamese, American (New)  \n",
       "10326                          Restaurants, Cuban, Delis  \n",
       "7354   Bars, American (Traditional), Sports Bars, Chi...  \n",
       "60640  Food, Convenience Stores, Photography Stores &...  \n",
       "54124                               Seafood, Restaurants  "
      ]
     },
     "execution_count": 53,
     "metadata": {},
     "output_type": "execute_result"
    }
   ],
   "source": [
    "# df_left.head()\n",
    "df_left.sample(8)"
   ]
  },
  {
   "cell_type": "code",
   "execution_count": 54,
   "id": "d7f6c514",
   "metadata": {
    "scrolled": false
   },
   "outputs": [
    {
     "data": {
      "text/html": [
       "<div>\n",
       "<style scoped>\n",
       "    .dataframe tbody tr th:only-of-type {\n",
       "        vertical-align: middle;\n",
       "    }\n",
       "\n",
       "    .dataframe tbody tr th {\n",
       "        vertical-align: top;\n",
       "    }\n",
       "\n",
       "    .dataframe thead th {\n",
       "        text-align: right;\n",
       "    }\n",
       "</style>\n",
       "<table border=\"1\" class=\"dataframe\">\n",
       "  <thead>\n",
       "    <tr style=\"text-align: right;\">\n",
       "      <th></th>\n",
       "      <th>business_id</th>\n",
       "      <th>name</th>\n",
       "      <th>address</th>\n",
       "      <th>city</th>\n",
       "      <th>state</th>\n",
       "      <th>zip_code</th>\n",
       "      <th>size</th>\n",
       "    </tr>\n",
       "  </thead>\n",
       "  <tbody>\n",
       "    <tr>\n",
       "      <th>2784</th>\n",
       "      <td>2785</td>\n",
       "      <td>HEALTH MUTT, LLC</td>\n",
       "      <td>6116 N. Central Avenue</td>\n",
       "      <td>TAMPA</td>\n",
       "      <td>FL</td>\n",
       "      <td>33604-6710</td>\n",
       "      <td>13.0</td>\n",
       "    </tr>\n",
       "    <tr>\n",
       "      <th>36987</th>\n",
       "      <td>36988</td>\n",
       "      <td>4 MEDIA GROUP</td>\n",
       "      <td>1908 MARCONI AVE</td>\n",
       "      <td>SAINT LOUIS</td>\n",
       "      <td>MO</td>\n",
       "      <td>63110-3038</td>\n",
       "      <td>8.0</td>\n",
       "    </tr>\n",
       "    <tr>\n",
       "      <th>85761</th>\n",
       "      <td>85762</td>\n",
       "      <td>THE WEEDING WOMAN, LLC</td>\n",
       "      <td>1130 WOODVALE DR</td>\n",
       "      <td>NASHVILLE</td>\n",
       "      <td>TN</td>\n",
       "      <td>37204-3941</td>\n",
       "      <td>11.0</td>\n",
       "    </tr>\n",
       "    <tr>\n",
       "      <th>40433</th>\n",
       "      <td>40434</td>\n",
       "      <td>C4 CONNECTIONS, LLC</td>\n",
       "      <td>12444 POWERSCOURT DR</td>\n",
       "      <td>SAINT LOUIS</td>\n",
       "      <td>MO</td>\n",
       "      <td>63131-3612</td>\n",
       "      <td>4.0</td>\n",
       "    </tr>\n",
       "    <tr>\n",
       "      <th>33266</th>\n",
       "      <td>33267</td>\n",
       "      <td>JONES ABSTRACT &amp; TITLE CO INC.</td>\n",
       "      <td>7448 Sylvan Ridge Rd</td>\n",
       "      <td>INDIANAPOLIS</td>\n",
       "      <td>IN</td>\n",
       "      <td>46240-3547</td>\n",
       "      <td>6.0</td>\n",
       "    </tr>\n",
       "    <tr>\n",
       "      <th>67799</th>\n",
       "      <td>67800</td>\n",
       "      <td>BANCROFT COMPANY INC</td>\n",
       "      <td>1226 s hancock</td>\n",
       "      <td>Philadelphia</td>\n",
       "      <td>PA</td>\n",
       "      <td>19147</td>\n",
       "      <td>2.0</td>\n",
       "    </tr>\n",
       "    <tr>\n",
       "      <th>49894</th>\n",
       "      <td>49895</td>\n",
       "      <td>GARY W. HAUSER, D.C.</td>\n",
       "      <td>1398 S 5TH ST</td>\n",
       "      <td>SAINT CHARLES</td>\n",
       "      <td>MO</td>\n",
       "      <td>63301-2444</td>\n",
       "      <td>2.0</td>\n",
       "    </tr>\n",
       "    <tr>\n",
       "      <th>33715</th>\n",
       "      <td>33716</td>\n",
       "      <td>WING INDY 6 LLC</td>\n",
       "      <td>8201 E WASHINGTON ST</td>\n",
       "      <td>INDIANAPOLIS</td>\n",
       "      <td>IN</td>\n",
       "      <td>46219-6815</td>\n",
       "      <td>5.0</td>\n",
       "    </tr>\n",
       "  </tbody>\n",
       "</table>\n",
       "</div>"
      ],
      "text/plain": [
       "       business_id                            name                 address  \\\n",
       "2784          2785                HEALTH MUTT, LLC  6116 N. Central Avenue   \n",
       "36987        36988                   4 MEDIA GROUP        1908 MARCONI AVE   \n",
       "85761        85762          THE WEEDING WOMAN, LLC        1130 WOODVALE DR   \n",
       "40433        40434             C4 CONNECTIONS, LLC    12444 POWERSCOURT DR   \n",
       "33266        33267  JONES ABSTRACT & TITLE CO INC.    7448 Sylvan Ridge Rd   \n",
       "67799        67800            BANCROFT COMPANY INC          1226 s hancock   \n",
       "49894        49895            GARY W. HAUSER, D.C.           1398 S 5TH ST   \n",
       "33715        33716                 WING INDY 6 LLC    8201 E WASHINGTON ST   \n",
       "\n",
       "                city state    zip_code  size  \n",
       "2784           TAMPA    FL  33604-6710  13.0  \n",
       "36987    SAINT LOUIS    MO  63110-3038   8.0  \n",
       "85761      NASHVILLE    TN  37204-3941  11.0  \n",
       "40433    SAINT LOUIS    MO  63131-3612   4.0  \n",
       "33266   INDIANAPOLIS    IN  46240-3547   6.0  \n",
       "67799   Philadelphia    PA       19147   2.0  \n",
       "49894  SAINT CHARLES    MO  63301-2444   2.0  \n",
       "33715   INDIANAPOLIS    IN  46219-6815   5.0  "
      ]
     },
     "execution_count": 54,
     "metadata": {},
     "output_type": "execute_result"
    }
   ],
   "source": [
    "# df_right.head()\n",
    "df_right.sample(8)"
   ]
  },
  {
   "cell_type": "code",
   "execution_count": 55,
   "id": "d320629c",
   "metadata": {
    "scrolled": true
   },
   "outputs": [
    {
     "name": "stdout",
     "output_type": "stream",
     "text": [
      "df_left columns: ['entity_id', 'name', 'address', 'city', 'state', 'postal_code', 'categories']\n",
      "df_right columns: ['business_id', 'name', 'address', 'city', 'state', 'zip_code', 'size']\n"
     ]
    }
   ],
   "source": [
    "# col name\n",
    "print(f\"df_left columns: {list(df_left.columns)}\")\n",
    "print(f\"df_right columns: {list(df_right.columns)}\")"
   ]
  },
  {
   "cell_type": "code",
   "execution_count": 56,
   "id": "535800e6",
   "metadata": {},
   "outputs": [
    {
     "name": "stdout",
     "output_type": "stream",
     "text": [
      "0\n",
      "0\n"
     ]
    }
   ],
   "source": [
    "# duplicate company id (the results show no duplicate id)\n",
    "print(sum(df_left['entity_id'].duplicated()))\n",
    "print(sum(df_right['business_id'].duplicated()))"
   ]
  },
  {
   "attachments": {},
   "cell_type": "markdown",
   "id": "762d4bc9",
   "metadata": {},
   "source": [
    "# Data Cleaning\n"
   ]
  },
  {
   "attachments": {},
   "cell_type": "markdown",
   "id": "ea57db61",
   "metadata": {},
   "source": [
    "## zip code"
   ]
  },
  {
   "attachments": {},
   "cell_type": "markdown",
   "id": "8bb6c0bf",
   "metadata": {},
   "source": [
    "### df_left"
   ]
  },
  {
   "cell_type": "code",
   "execution_count": 57,
   "id": "e374e60c",
   "metadata": {},
   "outputs": [
    {
     "data": {
      "text/plain": [
       "dtype('float64')"
      ]
     },
     "execution_count": 57,
     "metadata": {},
     "output_type": "execute_result"
    }
   ],
   "source": [
    "df_left[\"postal_code\"].dtype"
   ]
  },
  {
   "cell_type": "code",
   "execution_count": 58,
   "id": "25a14c23",
   "metadata": {},
   "outputs": [],
   "source": [
    "# replace na with 0 in \"postal_code\"\n",
    "df_left[\"postal_code\"] = df_left[\"postal_code\"].fillna(0)"
   ]
  },
  {
   "cell_type": "code",
   "execution_count": 59,
   "id": "05c2a3b3",
   "metadata": {},
   "outputs": [
    {
     "data": {
      "text/plain": [
       "5    94543\n",
       "1       37\n",
       "4        4\n",
       "6        1\n",
       "Name: zip_code_str, dtype: int64"
      ]
     },
     "execution_count": 59,
     "metadata": {},
     "output_type": "execute_result"
    }
   ],
   "source": [
    "# convert df_left[\"postal_code\"] to string due to leading and trailing 0s\n",
    "df_left[\"zip_code_str\"] = df_left[\"postal_code\"].astype(int).astype(str)\n",
    "\n",
    "# count the length of zip codes\n",
    "df_left[\"zip_code_str\"].map(len).value_counts()"
   ]
  },
  {
   "cell_type": "code",
   "execution_count": 60,
   "id": "50e9b8e4",
   "metadata": {},
   "outputs": [
    {
     "data": {
      "text/html": [
       "<div>\n",
       "<style scoped>\n",
       "    .dataframe tbody tr th:only-of-type {\n",
       "        vertical-align: middle;\n",
       "    }\n",
       "\n",
       "    .dataframe tbody tr th {\n",
       "        vertical-align: top;\n",
       "    }\n",
       "\n",
       "    .dataframe thead th {\n",
       "        text-align: right;\n",
       "    }\n",
       "</style>\n",
       "<table border=\"1\" class=\"dataframe\">\n",
       "  <thead>\n",
       "    <tr style=\"text-align: right;\">\n",
       "      <th></th>\n",
       "      <th>entity_id</th>\n",
       "      <th>name</th>\n",
       "      <th>address</th>\n",
       "      <th>city</th>\n",
       "      <th>state</th>\n",
       "      <th>postal_code</th>\n",
       "      <th>categories</th>\n",
       "      <th>zip_code_str</th>\n",
       "    </tr>\n",
       "  </thead>\n",
       "  <tbody>\n",
       "    <tr>\n",
       "      <th>65929</th>\n",
       "      <td>65930</td>\n",
       "      <td>Apna Kabab House</td>\n",
       "      <td>20323 Bruce B Downs Blvd</td>\n",
       "      <td>Tampa</td>\n",
       "      <td>FL</td>\n",
       "      <td>336140.0</td>\n",
       "      <td>Restaurants, Indian, Halal, Pakistani</td>\n",
       "      <td>336140</td>\n",
       "    </tr>\n",
       "  </tbody>\n",
       "</table>\n",
       "</div>"
      ],
      "text/plain": [
       "       entity_id              name                   address   city state  \\\n",
       "65929      65930  Apna Kabab House  20323 Bruce B Downs Blvd  Tampa    FL   \n",
       "\n",
       "       postal_code                             categories zip_code_str  \n",
       "65929     336140.0  Restaurants, Indian, Halal, Pakistani       336140  "
      ]
     },
     "execution_count": 60,
     "metadata": {},
     "output_type": "execute_result"
    }
   ],
   "source": [
    "# examine row with zip code length of 6\n",
    "df_left[df_left[\"zip_code_str\"].map(len) == 6]"
   ]
  },
  {
   "cell_type": "code",
   "execution_count": 61,
   "id": "7d5041d1",
   "metadata": {},
   "outputs": [],
   "source": [
    "# change the above zip code to 33614 after varification based on city and state\n",
    "df_left['zip_code_str'] = df_left['zip_code_str'].replace('336140', '33614')"
   ]
  },
  {
   "cell_type": "code",
   "execution_count": 62,
   "id": "1182cc8f",
   "metadata": {},
   "outputs": [],
   "source": [
    "# fill the leading 0 in zip code\n",
    "df_left[\"zip_code_str\"] = df_left[\"zip_code_str\"].str.zfill(5)"
   ]
  },
  {
   "cell_type": "code",
   "execution_count": 63,
   "id": "4770d568",
   "metadata": {},
   "outputs": [
    {
     "data": {
      "text/plain": [
       "5    94585\n",
       "Name: zip_code_str, dtype: int64"
      ]
     },
     "execution_count": 63,
     "metadata": {},
     "output_type": "execute_result"
    }
   ],
   "source": [
    "# count the length of zip codes again, now all \"zip_code_string\" are 5 digit strings\n",
    "df_left[\"zip_code_str\"].map(len).value_counts()"
   ]
  },
  {
   "attachments": {},
   "cell_type": "markdown",
   "id": "7a617dc5",
   "metadata": {},
   "source": [
    "### df_right"
   ]
  },
  {
   "cell_type": "code",
   "execution_count": 64,
   "id": "2d2e21df",
   "metadata": {},
   "outputs": [
    {
     "data": {
      "text/plain": [
       "dtype('O')"
      ]
     },
     "execution_count": 64,
     "metadata": {},
     "output_type": "execute_result"
    }
   ],
   "source": [
    "df_right[\"zip_code\"].dtype"
   ]
  },
  {
   "cell_type": "code",
   "execution_count": 65,
   "id": "3844bdba",
   "metadata": {},
   "outputs": [
    {
     "data": {
      "text/plain": [
       "10    61572\n",
       "5     30209\n",
       "7         9\n",
       "9         1\n",
       "Name: zip_code, dtype: int64"
      ]
     },
     "execution_count": 65,
     "metadata": {},
     "output_type": "execute_result"
    }
   ],
   "source": [
    "df_right[\"zip_code\"].map(len).value_counts()"
   ]
  },
  {
   "cell_type": "code",
   "execution_count": 66,
   "id": "399d8d6e",
   "metadata": {},
   "outputs": [
    {
     "data": {
      "text/html": [
       "<div>\n",
       "<style scoped>\n",
       "    .dataframe tbody tr th:only-of-type {\n",
       "        vertical-align: middle;\n",
       "    }\n",
       "\n",
       "    .dataframe tbody tr th {\n",
       "        vertical-align: top;\n",
       "    }\n",
       "\n",
       "    .dataframe thead th {\n",
       "        text-align: right;\n",
       "    }\n",
       "</style>\n",
       "<table border=\"1\" class=\"dataframe\">\n",
       "  <thead>\n",
       "    <tr style=\"text-align: right;\">\n",
       "      <th></th>\n",
       "      <th>business_id</th>\n",
       "      <th>name</th>\n",
       "      <th>address</th>\n",
       "      <th>city</th>\n",
       "      <th>state</th>\n",
       "      <th>zip_code</th>\n",
       "      <th>size</th>\n",
       "    </tr>\n",
       "  </thead>\n",
       "  <tbody>\n",
       "    <tr>\n",
       "      <th>6804</th>\n",
       "      <td>6805</td>\n",
       "      <td>SUNSHINE AGENTS CORPORATION</td>\n",
       "      <td>4114 Amber Lane</td>\n",
       "      <td>Palm Harbor</td>\n",
       "      <td>FL</td>\n",
       "      <td>34685--</td>\n",
       "      <td>4.0</td>\n",
       "    </tr>\n",
       "    <tr>\n",
       "      <th>16141</th>\n",
       "      <td>16142</td>\n",
       "      <td>RICHARD W OSBORNE PA</td>\n",
       "      <td>320 West Kennedy Boulevard</td>\n",
       "      <td>Tampa</td>\n",
       "      <td>FL</td>\n",
       "      <td>33606--</td>\n",
       "      <td>2.0</td>\n",
       "    </tr>\n",
       "    <tr>\n",
       "      <th>22566</th>\n",
       "      <td>22567</td>\n",
       "      <td>THE SHELL STORE LLC</td>\n",
       "      <td>8211 Ulmerton Road</td>\n",
       "      <td>Largo</td>\n",
       "      <td>FL</td>\n",
       "      <td>33771--</td>\n",
       "      <td>2.0</td>\n",
       "    </tr>\n",
       "    <tr>\n",
       "      <th>33369</th>\n",
       "      <td>33370</td>\n",
       "      <td>FIFTH AVE MANAGEMENT INC</td>\n",
       "      <td>2301 North Hawthorne Lane</td>\n",
       "      <td>Indianapolis</td>\n",
       "      <td>IN</td>\n",
       "      <td>46218--</td>\n",
       "      <td>4.0</td>\n",
       "    </tr>\n",
       "    <tr>\n",
       "      <th>47368</th>\n",
       "      <td>47369</td>\n",
       "      <td>LOOKS BY LISA</td>\n",
       "      <td>3010 Locust Street</td>\n",
       "      <td>St. Louis</td>\n",
       "      <td>MO</td>\n",
       "      <td>63103--</td>\n",
       "      <td>25.0</td>\n",
       "    </tr>\n",
       "    <tr>\n",
       "      <th>48579</th>\n",
       "      <td>48580</td>\n",
       "      <td>CRUZ'S MAGICAL NURSERY</td>\n",
       "      <td>1621 Rosado Drive</td>\n",
       "      <td>St. Louis</td>\n",
       "      <td>MO</td>\n",
       "      <td>63138--</td>\n",
       "      <td>5.0</td>\n",
       "    </tr>\n",
       "    <tr>\n",
       "      <th>69641</th>\n",
       "      <td>69642</td>\n",
       "      <td>SUPER FENCE COMPANY, LLC</td>\n",
       "      <td>2717 Haverford Road</td>\n",
       "      <td>Ardmore</td>\n",
       "      <td>PA</td>\n",
       "      <td>19003--</td>\n",
       "      <td>6.0</td>\n",
       "    </tr>\n",
       "    <tr>\n",
       "      <th>76398</th>\n",
       "      <td>76399</td>\n",
       "      <td>ST JOHNS BAPTIST CHURCH</td>\n",
       "      <td>1232 Tasker Ave.</td>\n",
       "      <td>Philadelphia</td>\n",
       "      <td>PA</td>\n",
       "      <td>19148--</td>\n",
       "      <td>4.0</td>\n",
       "    </tr>\n",
       "    <tr>\n",
       "      <th>88756</th>\n",
       "      <td>88757</td>\n",
       "      <td>GALLATIN MARKET , MADISON BP</td>\n",
       "      <td>3237 Gallatin Pike</td>\n",
       "      <td>Nashville</td>\n",
       "      <td>TN</td>\n",
       "      <td>37216--</td>\n",
       "      <td>4.0</td>\n",
       "    </tr>\n",
       "  </tbody>\n",
       "</table>\n",
       "</div>"
      ],
      "text/plain": [
       "       business_id                          name                     address  \\\n",
       "6804          6805   SUNSHINE AGENTS CORPORATION             4114 Amber Lane   \n",
       "16141        16142          RICHARD W OSBORNE PA  320 West Kennedy Boulevard   \n",
       "22566        22567           THE SHELL STORE LLC          8211 Ulmerton Road   \n",
       "33369        33370      FIFTH AVE MANAGEMENT INC   2301 North Hawthorne Lane   \n",
       "47368        47369                 LOOKS BY LISA          3010 Locust Street   \n",
       "48579        48580        CRUZ'S MAGICAL NURSERY           1621 Rosado Drive   \n",
       "69641        69642      SUPER FENCE COMPANY, LLC         2717 Haverford Road   \n",
       "76398        76399       ST JOHNS BAPTIST CHURCH            1232 Tasker Ave.   \n",
       "88756        88757  GALLATIN MARKET , MADISON BP          3237 Gallatin Pike   \n",
       "\n",
       "               city state zip_code  size  \n",
       "6804    Palm Harbor    FL  34685--   4.0  \n",
       "16141         Tampa    FL  33606--   2.0  \n",
       "22566         Largo    FL  33771--   2.0  \n",
       "33369  Indianapolis    IN  46218--   4.0  \n",
       "47368     St. Louis    MO  63103--  25.0  \n",
       "48579     St. Louis    MO  63138--   5.0  \n",
       "69641       Ardmore    PA  19003--   6.0  \n",
       "76398  Philadelphia    PA  19148--   4.0  \n",
       "88756     Nashville    TN  37216--   4.0  "
      ]
     },
     "execution_count": 66,
     "metadata": {},
     "output_type": "execute_result"
    }
   ],
   "source": [
    "# examine row with zip code length of 7\n",
    "df_right[df_right[\"zip_code\"].map(len) == 7]"
   ]
  },
  {
   "cell_type": "code",
   "execution_count": 67,
   "id": "f6019dbc",
   "metadata": {},
   "outputs": [],
   "source": [
    "# remove trailing -- in zip_code\n",
    "df_right['zip_code'] = df_right['zip_code'].apply(lambda x: x.replace('-', '') if len(x)==7 else x)"
   ]
  },
  {
   "cell_type": "code",
   "execution_count": 68,
   "id": "276359dd",
   "metadata": {},
   "outputs": [
    {
     "data": {
      "text/html": [
       "<div>\n",
       "<style scoped>\n",
       "    .dataframe tbody tr th:only-of-type {\n",
       "        vertical-align: middle;\n",
       "    }\n",
       "\n",
       "    .dataframe tbody tr th {\n",
       "        vertical-align: top;\n",
       "    }\n",
       "\n",
       "    .dataframe thead th {\n",
       "        text-align: right;\n",
       "    }\n",
       "</style>\n",
       "<table border=\"1\" class=\"dataframe\">\n",
       "  <thead>\n",
       "    <tr style=\"text-align: right;\">\n",
       "      <th></th>\n",
       "      <th>business_id</th>\n",
       "      <th>name</th>\n",
       "      <th>address</th>\n",
       "      <th>city</th>\n",
       "      <th>state</th>\n",
       "      <th>zip_code</th>\n",
       "      <th>size</th>\n",
       "    </tr>\n",
       "  </thead>\n",
       "  <tbody>\n",
       "    <tr>\n",
       "      <th>29456</th>\n",
       "      <td>29457</td>\n",
       "      <td>RANSOME LLC</td>\n",
       "      <td>363 N Illinois St</td>\n",
       "      <td>Indianapolis</td>\n",
       "      <td>IN</td>\n",
       "      <td>46204-1787</td>\n",
       "      <td>5.0</td>\n",
       "    </tr>\n",
       "    <tr>\n",
       "      <th>86321</th>\n",
       "      <td>86322</td>\n",
       "      <td>WYNONNA JUDD</td>\n",
       "      <td>188 FRONT ST</td>\n",
       "      <td>FRANKLIN</td>\n",
       "      <td>TN</td>\n",
       "      <td>37064-4883</td>\n",
       "      <td>3.0</td>\n",
       "    </tr>\n",
       "    <tr>\n",
       "      <th>68807</th>\n",
       "      <td>68808</td>\n",
       "      <td>FEAST OF JUSTICE</td>\n",
       "      <td>3101 TYSON AVE</td>\n",
       "      <td>PHILADELPHIA</td>\n",
       "      <td>PA</td>\n",
       "      <td>19149-2031</td>\n",
       "      <td>4.0</td>\n",
       "    </tr>\n",
       "  </tbody>\n",
       "</table>\n",
       "</div>"
      ],
      "text/plain": [
       "       business_id              name            address          city state  \\\n",
       "29456        29457       RANSOME LLC  363 N Illinois St  Indianapolis    IN   \n",
       "86321        86322      WYNONNA JUDD       188 FRONT ST      FRANKLIN    TN   \n",
       "68807        68808  FEAST OF JUSTICE     3101 TYSON AVE  PHILADELPHIA    PA   \n",
       "\n",
       "         zip_code  size  \n",
       "29456  46204-1787   5.0  \n",
       "86321  37064-4883   3.0  \n",
       "68807  19149-2031   4.0  "
      ]
     },
     "execution_count": 68,
     "metadata": {},
     "output_type": "execute_result"
    }
   ],
   "source": [
    "# length of 10 are due to extended ZIP+4 code\n",
    "df_right[df_right[\"zip_code\"].map(len) == 10].sample(3)"
   ]
  },
  {
   "cell_type": "code",
   "execution_count": 69,
   "id": "9ad41384",
   "metadata": {},
   "outputs": [
    {
     "data": {
      "text/html": [
       "<div>\n",
       "<style scoped>\n",
       "    .dataframe tbody tr th:only-of-type {\n",
       "        vertical-align: middle;\n",
       "    }\n",
       "\n",
       "    .dataframe tbody tr th {\n",
       "        vertical-align: top;\n",
       "    }\n",
       "\n",
       "    .dataframe thead th {\n",
       "        text-align: right;\n",
       "    }\n",
       "</style>\n",
       "<table border=\"1\" class=\"dataframe\">\n",
       "  <thead>\n",
       "    <tr style=\"text-align: right;\">\n",
       "      <th></th>\n",
       "      <th>business_id</th>\n",
       "      <th>name</th>\n",
       "      <th>address</th>\n",
       "      <th>city</th>\n",
       "      <th>state</th>\n",
       "      <th>zip_code</th>\n",
       "      <th>size</th>\n",
       "    </tr>\n",
       "  </thead>\n",
       "  <tbody>\n",
       "    <tr>\n",
       "      <th>21047</th>\n",
       "      <td>21048</td>\n",
       "      <td>SUNCOAST BAPTIST</td>\n",
       "      <td>6559 126th Avenue N</td>\n",
       "      <td>Largo</td>\n",
       "      <td>FL</td>\n",
       "      <td>33762-525</td>\n",
       "      <td>4.0</td>\n",
       "    </tr>\n",
       "  </tbody>\n",
       "</table>\n",
       "</div>"
      ],
      "text/plain": [
       "       business_id              name              address   city state  \\\n",
       "21047        21048  SUNCOAST BAPTIST  6559 126th Avenue N  Largo    FL   \n",
       "\n",
       "        zip_code  size  \n",
       "21047  33762-525   4.0  "
      ]
     },
     "execution_count": 69,
     "metadata": {},
     "output_type": "execute_result"
    }
   ],
   "source": [
    "# examine row with zip code length of 9 (maybe due to data entry error)\n",
    "df_right[df_right[\"zip_code\"].map(len) == 9]"
   ]
  },
  {
   "cell_type": "code",
   "execution_count": 70,
   "id": "7695cf78",
   "metadata": {},
   "outputs": [],
   "source": [
    "# keep only the first five digit of 9/10-digit zip_code because df_left only contains 5 digits\n",
    "# so it's no meaning to keep the extended digits\n",
    "df_right['zip_code'] = df_right['zip_code'].apply(lambda x: x[:5] if len(x) in [9, 10] else x)"
   ]
  },
  {
   "cell_type": "code",
   "execution_count": 71,
   "id": "601fafe8",
   "metadata": {},
   "outputs": [
    {
     "data": {
      "text/plain": [
       "5    91791\n",
       "Name: zip_code, dtype: int64"
      ]
     },
     "execution_count": 71,
     "metadata": {},
     "output_type": "execute_result"
    }
   ],
   "source": [
    "# the zip_code column is clean now\n",
    "df_right[\"zip_code\"].map(len).value_counts()"
   ]
  },
  {
   "cell_type": "code",
   "execution_count": 72,
   "id": "51a59b6f",
   "metadata": {},
   "outputs": [],
   "source": [
    "# Convert all strings to lower case\n",
    "df_left = df_left.applymap(lambda s:s.lower() if type(s) == str else s)\n",
    "df_right = df_right.applymap(lambda s:s.lower() if type(s) == str else s)"
   ]
  },
  {
   "cell_type": "code",
   "execution_count": 73,
   "id": "cf2fe37e",
   "metadata": {},
   "outputs": [],
   "source": [
    "# Merge address, city, state into a single column\n",
    "df_left['address_combined'] = df_left.apply(lambda row: ' '.join(row[['address', 'city', 'state']].astype(str)), axis=1)\n",
    "df_right['address_combined'] = df_right.apply(lambda row: ' '.join(row[['address', 'city', 'state']].astype(str)), axis=1)"
   ]
  },
  {
   "cell_type": "code",
   "execution_count": 74,
   "id": "9a479e78",
   "metadata": {},
   "outputs": [],
   "source": [
    "df_left.drop(['postal_code','categories'], axis=1, inplace=True)\n",
    "df_right.drop(['size'], axis=1, inplace=True)"
   ]
  },
  {
   "cell_type": "code",
   "execution_count": 75,
   "id": "80ddfe89",
   "metadata": {},
   "outputs": [
    {
     "data": {
      "text/html": [
       "<div>\n",
       "<style scoped>\n",
       "    .dataframe tbody tr th:only-of-type {\n",
       "        vertical-align: middle;\n",
       "    }\n",
       "\n",
       "    .dataframe tbody tr th {\n",
       "        vertical-align: top;\n",
       "    }\n",
       "\n",
       "    .dataframe thead th {\n",
       "        text-align: right;\n",
       "    }\n",
       "</style>\n",
       "<table border=\"1\" class=\"dataframe\">\n",
       "  <thead>\n",
       "    <tr style=\"text-align: right;\">\n",
       "      <th></th>\n",
       "      <th>entity_id</th>\n",
       "      <th>name</th>\n",
       "      <th>address</th>\n",
       "      <th>city</th>\n",
       "      <th>state</th>\n",
       "      <th>zip_code_str</th>\n",
       "      <th>address_combined</th>\n",
       "    </tr>\n",
       "  </thead>\n",
       "  <tbody>\n",
       "    <tr>\n",
       "      <th>0</th>\n",
       "      <td>1</td>\n",
       "      <td>the ups store</td>\n",
       "      <td>87 grasso plaza shopping center</td>\n",
       "      <td>affton</td>\n",
       "      <td>mo</td>\n",
       "      <td>63123</td>\n",
       "      <td>87 grasso plaza shopping center affton mo</td>\n",
       "    </tr>\n",
       "    <tr>\n",
       "      <th>1</th>\n",
       "      <td>2</td>\n",
       "      <td>st honore pastries</td>\n",
       "      <td>935 race st</td>\n",
       "      <td>philadelphia</td>\n",
       "      <td>pa</td>\n",
       "      <td>19107</td>\n",
       "      <td>935 race st philadelphia pa</td>\n",
       "    </tr>\n",
       "    <tr>\n",
       "      <th>2</th>\n",
       "      <td>3</td>\n",
       "      <td>perkiomen valley brewery</td>\n",
       "      <td>101 walnut st</td>\n",
       "      <td>green lane</td>\n",
       "      <td>pa</td>\n",
       "      <td>18054</td>\n",
       "      <td>101 walnut st green lane pa</td>\n",
       "    </tr>\n",
       "    <tr>\n",
       "      <th>3</th>\n",
       "      <td>4</td>\n",
       "      <td>sonic drive-in</td>\n",
       "      <td>615 s main st</td>\n",
       "      <td>ashland city</td>\n",
       "      <td>tn</td>\n",
       "      <td>37015</td>\n",
       "      <td>615 s main st ashland city tn</td>\n",
       "    </tr>\n",
       "    <tr>\n",
       "      <th>4</th>\n",
       "      <td>5</td>\n",
       "      <td>famous footwear</td>\n",
       "      <td>8522 eager road, dierbergs brentwood point</td>\n",
       "      <td>brentwood</td>\n",
       "      <td>mo</td>\n",
       "      <td>63144</td>\n",
       "      <td>8522 eager road, dierbergs brentwood point bre...</td>\n",
       "    </tr>\n",
       "  </tbody>\n",
       "</table>\n",
       "</div>"
      ],
      "text/plain": [
       "   entity_id                      name  \\\n",
       "0          1             the ups store   \n",
       "1          2        st honore pastries   \n",
       "2          3  perkiomen valley brewery   \n",
       "3          4            sonic drive-in   \n",
       "4          5           famous footwear   \n",
       "\n",
       "                                      address          city state  \\\n",
       "0             87 grasso plaza shopping center        affton    mo   \n",
       "1                                 935 race st  philadelphia    pa   \n",
       "2                               101 walnut st    green lane    pa   \n",
       "3                               615 s main st  ashland city    tn   \n",
       "4  8522 eager road, dierbergs brentwood point     brentwood    mo   \n",
       "\n",
       "  zip_code_str                                   address_combined  \n",
       "0        63123          87 grasso plaza shopping center affton mo  \n",
       "1        19107                        935 race st philadelphia pa  \n",
       "2        18054                        101 walnut st green lane pa  \n",
       "3        37015                      615 s main st ashland city tn  \n",
       "4        63144  8522 eager road, dierbergs brentwood point bre...  "
      ]
     },
     "execution_count": 75,
     "metadata": {},
     "output_type": "execute_result"
    }
   ],
   "source": [
    "df_left.head()"
   ]
  },
  {
   "cell_type": "code",
   "execution_count": 76,
   "id": "3a0df20a",
   "metadata": {},
   "outputs": [
    {
     "data": {
      "text/html": [
       "<div>\n",
       "<style scoped>\n",
       "    .dataframe tbody tr th:only-of-type {\n",
       "        vertical-align: middle;\n",
       "    }\n",
       "\n",
       "    .dataframe tbody tr th {\n",
       "        vertical-align: top;\n",
       "    }\n",
       "\n",
       "    .dataframe thead th {\n",
       "        text-align: right;\n",
       "    }\n",
       "</style>\n",
       "<table border=\"1\" class=\"dataframe\">\n",
       "  <thead>\n",
       "    <tr style=\"text-align: right;\">\n",
       "      <th></th>\n",
       "      <th>business_id</th>\n",
       "      <th>name</th>\n",
       "      <th>address</th>\n",
       "      <th>city</th>\n",
       "      <th>state</th>\n",
       "      <th>zip_code</th>\n",
       "      <th>address_combined</th>\n",
       "    </tr>\n",
       "  </thead>\n",
       "  <tbody>\n",
       "    <tr>\n",
       "      <th>0</th>\n",
       "      <td>1</td>\n",
       "      <td>sourini painting inc.</td>\n",
       "      <td>12800 44th st n</td>\n",
       "      <td>clearwater</td>\n",
       "      <td>fl</td>\n",
       "      <td>33762</td>\n",
       "      <td>12800 44th st n clearwater fl</td>\n",
       "    </tr>\n",
       "    <tr>\n",
       "      <th>1</th>\n",
       "      <td>2</td>\n",
       "      <td>wolff dolla bill llc</td>\n",
       "      <td>1905 e 19th ave</td>\n",
       "      <td>tampa</td>\n",
       "      <td>fl</td>\n",
       "      <td>33605</td>\n",
       "      <td>1905 e 19th ave tampa fl</td>\n",
       "    </tr>\n",
       "    <tr>\n",
       "      <th>2</th>\n",
       "      <td>3</td>\n",
       "      <td>comprehensive surgery center, llc</td>\n",
       "      <td>1988 gulf to bay blvd, ste 1</td>\n",
       "      <td>clearwater</td>\n",
       "      <td>fl</td>\n",
       "      <td>33765</td>\n",
       "      <td>1988 gulf to bay blvd, ste 1 clearwater fl</td>\n",
       "    </tr>\n",
       "    <tr>\n",
       "      <th>3</th>\n",
       "      <td>4</td>\n",
       "      <td>frank &amp; adam apparel llc</td>\n",
       "      <td>13640 wright cir</td>\n",
       "      <td>tampa</td>\n",
       "      <td>fl</td>\n",
       "      <td>33626</td>\n",
       "      <td>13640 wright cir tampa fl</td>\n",
       "    </tr>\n",
       "    <tr>\n",
       "      <th>4</th>\n",
       "      <td>5</td>\n",
       "      <td>moreno plus transport inc</td>\n",
       "      <td>8608 huron court unite 58</td>\n",
       "      <td>tampa</td>\n",
       "      <td>fl</td>\n",
       "      <td>33614</td>\n",
       "      <td>8608 huron court unite 58 tampa fl</td>\n",
       "    </tr>\n",
       "  </tbody>\n",
       "</table>\n",
       "</div>"
      ],
      "text/plain": [
       "   business_id                               name  \\\n",
       "0            1              sourini painting inc.   \n",
       "1            2               wolff dolla bill llc   \n",
       "2            3  comprehensive surgery center, llc   \n",
       "3            4           frank & adam apparel llc   \n",
       "4            5          moreno plus transport inc   \n",
       "\n",
       "                        address        city state zip_code  \\\n",
       "0               12800 44th st n  clearwater    fl    33762   \n",
       "1               1905 e 19th ave       tampa    fl    33605   \n",
       "2  1988 gulf to bay blvd, ste 1  clearwater    fl    33765   \n",
       "3              13640 wright cir       tampa    fl    33626   \n",
       "4     8608 huron court unite 58       tampa    fl    33614   \n",
       "\n",
       "                             address_combined  \n",
       "0               12800 44th st n clearwater fl  \n",
       "1                    1905 e 19th ave tampa fl  \n",
       "2  1988 gulf to bay blvd, ste 1 clearwater fl  \n",
       "3                   13640 wright cir tampa fl  \n",
       "4          8608 huron court unite 58 tampa fl  "
      ]
     },
     "execution_count": 76,
     "metadata": {},
     "output_type": "execute_result"
    }
   ],
   "source": [
    "df_right.head()"
   ]
  },
  {
   "attachments": {},
   "cell_type": "markdown",
   "id": "3f5da6c5",
   "metadata": {},
   "source": [
    "## Remove punctuations in name and address_combined"
   ]
  },
  {
   "cell_type": "code",
   "execution_count": 77,
   "id": "f3cbaea5",
   "metadata": {},
   "outputs": [],
   "source": [
    "import string\n",
    "\n",
    "# Define a lambda function to remove punctuation from a string\n",
    "remove_punct = lambda x: x.translate(str.maketrans('', '', string.punctuation))\n",
    "\n",
    "# Remove punctuation from the \"name\" and \"address_combined\" columns in both datasets\n",
    "df_left[\"name\"] = df_left[\"name\"].apply(remove_punct)\n",
    "df_left[\"address_combined\"] = df_left[\"address_combined\"].apply(remove_punct)\n",
    "\n",
    "df_right[\"name\"] = df_right[\"name\"].apply(remove_punct)\n",
    "df_right[\"address_combined\"] = df_right[\"address_combined\"].apply(remove_punct)"
   ]
  },
  {
   "cell_type": "code",
   "execution_count": 78,
   "id": "2da32773",
   "metadata": {},
   "outputs": [
    {
     "data": {
      "text/html": [
       "<div>\n",
       "<style scoped>\n",
       "    .dataframe tbody tr th:only-of-type {\n",
       "        vertical-align: middle;\n",
       "    }\n",
       "\n",
       "    .dataframe tbody tr th {\n",
       "        vertical-align: top;\n",
       "    }\n",
       "\n",
       "    .dataframe thead th {\n",
       "        text-align: right;\n",
       "    }\n",
       "</style>\n",
       "<table border=\"1\" class=\"dataframe\">\n",
       "  <thead>\n",
       "    <tr style=\"text-align: right;\">\n",
       "      <th></th>\n",
       "      <th>entity_id</th>\n",
       "      <th>name</th>\n",
       "      <th>address</th>\n",
       "      <th>city</th>\n",
       "      <th>state</th>\n",
       "      <th>zip_code_str</th>\n",
       "      <th>address_combined</th>\n",
       "    </tr>\n",
       "  </thead>\n",
       "  <tbody>\n",
       "    <tr>\n",
       "      <th>0</th>\n",
       "      <td>1</td>\n",
       "      <td>the ups store</td>\n",
       "      <td>87 grasso plaza shopping center</td>\n",
       "      <td>affton</td>\n",
       "      <td>mo</td>\n",
       "      <td>63123</td>\n",
       "      <td>87 grasso plaza shopping center affton mo</td>\n",
       "    </tr>\n",
       "    <tr>\n",
       "      <th>1</th>\n",
       "      <td>2</td>\n",
       "      <td>st honore pastries</td>\n",
       "      <td>935 race st</td>\n",
       "      <td>philadelphia</td>\n",
       "      <td>pa</td>\n",
       "      <td>19107</td>\n",
       "      <td>935 race st philadelphia pa</td>\n",
       "    </tr>\n",
       "    <tr>\n",
       "      <th>2</th>\n",
       "      <td>3</td>\n",
       "      <td>perkiomen valley brewery</td>\n",
       "      <td>101 walnut st</td>\n",
       "      <td>green lane</td>\n",
       "      <td>pa</td>\n",
       "      <td>18054</td>\n",
       "      <td>101 walnut st green lane pa</td>\n",
       "    </tr>\n",
       "    <tr>\n",
       "      <th>3</th>\n",
       "      <td>4</td>\n",
       "      <td>sonic drivein</td>\n",
       "      <td>615 s main st</td>\n",
       "      <td>ashland city</td>\n",
       "      <td>tn</td>\n",
       "      <td>37015</td>\n",
       "      <td>615 s main st ashland city tn</td>\n",
       "    </tr>\n",
       "    <tr>\n",
       "      <th>4</th>\n",
       "      <td>5</td>\n",
       "      <td>famous footwear</td>\n",
       "      <td>8522 eager road, dierbergs brentwood point</td>\n",
       "      <td>brentwood</td>\n",
       "      <td>mo</td>\n",
       "      <td>63144</td>\n",
       "      <td>8522 eager road dierbergs brentwood point bren...</td>\n",
       "    </tr>\n",
       "  </tbody>\n",
       "</table>\n",
       "</div>"
      ],
      "text/plain": [
       "   entity_id                      name  \\\n",
       "0          1             the ups store   \n",
       "1          2        st honore pastries   \n",
       "2          3  perkiomen valley brewery   \n",
       "3          4             sonic drivein   \n",
       "4          5           famous footwear   \n",
       "\n",
       "                                      address          city state  \\\n",
       "0             87 grasso plaza shopping center        affton    mo   \n",
       "1                                 935 race st  philadelphia    pa   \n",
       "2                               101 walnut st    green lane    pa   \n",
       "3                               615 s main st  ashland city    tn   \n",
       "4  8522 eager road, dierbergs brentwood point     brentwood    mo   \n",
       "\n",
       "  zip_code_str                                   address_combined  \n",
       "0        63123          87 grasso plaza shopping center affton mo  \n",
       "1        19107                        935 race st philadelphia pa  \n",
       "2        18054                        101 walnut st green lane pa  \n",
       "3        37015                      615 s main st ashland city tn  \n",
       "4        63144  8522 eager road dierbergs brentwood point bren...  "
      ]
     },
     "execution_count": 78,
     "metadata": {},
     "output_type": "execute_result"
    }
   ],
   "source": [
    "df_left.head()"
   ]
  },
  {
   "cell_type": "code",
   "execution_count": 79,
   "id": "ae2ec79b",
   "metadata": {},
   "outputs": [
    {
     "data": {
      "text/html": [
       "<div>\n",
       "<style scoped>\n",
       "    .dataframe tbody tr th:only-of-type {\n",
       "        vertical-align: middle;\n",
       "    }\n",
       "\n",
       "    .dataframe tbody tr th {\n",
       "        vertical-align: top;\n",
       "    }\n",
       "\n",
       "    .dataframe thead th {\n",
       "        text-align: right;\n",
       "    }\n",
       "</style>\n",
       "<table border=\"1\" class=\"dataframe\">\n",
       "  <thead>\n",
       "    <tr style=\"text-align: right;\">\n",
       "      <th></th>\n",
       "      <th>business_id</th>\n",
       "      <th>name</th>\n",
       "      <th>address</th>\n",
       "      <th>city</th>\n",
       "      <th>state</th>\n",
       "      <th>zip_code</th>\n",
       "      <th>address_combined</th>\n",
       "    </tr>\n",
       "  </thead>\n",
       "  <tbody>\n",
       "    <tr>\n",
       "      <th>0</th>\n",
       "      <td>1</td>\n",
       "      <td>sourini painting inc</td>\n",
       "      <td>12800 44th st n</td>\n",
       "      <td>clearwater</td>\n",
       "      <td>fl</td>\n",
       "      <td>33762</td>\n",
       "      <td>12800 44th st n clearwater fl</td>\n",
       "    </tr>\n",
       "    <tr>\n",
       "      <th>1</th>\n",
       "      <td>2</td>\n",
       "      <td>wolff dolla bill llc</td>\n",
       "      <td>1905 e 19th ave</td>\n",
       "      <td>tampa</td>\n",
       "      <td>fl</td>\n",
       "      <td>33605</td>\n",
       "      <td>1905 e 19th ave tampa fl</td>\n",
       "    </tr>\n",
       "    <tr>\n",
       "      <th>2</th>\n",
       "      <td>3</td>\n",
       "      <td>comprehensive surgery center llc</td>\n",
       "      <td>1988 gulf to bay blvd, ste 1</td>\n",
       "      <td>clearwater</td>\n",
       "      <td>fl</td>\n",
       "      <td>33765</td>\n",
       "      <td>1988 gulf to bay blvd ste 1 clearwater fl</td>\n",
       "    </tr>\n",
       "    <tr>\n",
       "      <th>3</th>\n",
       "      <td>4</td>\n",
       "      <td>frank  adam apparel llc</td>\n",
       "      <td>13640 wright cir</td>\n",
       "      <td>tampa</td>\n",
       "      <td>fl</td>\n",
       "      <td>33626</td>\n",
       "      <td>13640 wright cir tampa fl</td>\n",
       "    </tr>\n",
       "    <tr>\n",
       "      <th>4</th>\n",
       "      <td>5</td>\n",
       "      <td>moreno plus transport inc</td>\n",
       "      <td>8608 huron court unite 58</td>\n",
       "      <td>tampa</td>\n",
       "      <td>fl</td>\n",
       "      <td>33614</td>\n",
       "      <td>8608 huron court unite 58 tampa fl</td>\n",
       "    </tr>\n",
       "  </tbody>\n",
       "</table>\n",
       "</div>"
      ],
      "text/plain": [
       "   business_id                              name  \\\n",
       "0            1              sourini painting inc   \n",
       "1            2              wolff dolla bill llc   \n",
       "2            3  comprehensive surgery center llc   \n",
       "3            4           frank  adam apparel llc   \n",
       "4            5         moreno plus transport inc   \n",
       "\n",
       "                        address        city state zip_code  \\\n",
       "0               12800 44th st n  clearwater    fl    33762   \n",
       "1               1905 e 19th ave       tampa    fl    33605   \n",
       "2  1988 gulf to bay blvd, ste 1  clearwater    fl    33765   \n",
       "3              13640 wright cir       tampa    fl    33626   \n",
       "4     8608 huron court unite 58       tampa    fl    33614   \n",
       "\n",
       "                            address_combined  \n",
       "0              12800 44th st n clearwater fl  \n",
       "1                   1905 e 19th ave tampa fl  \n",
       "2  1988 gulf to bay blvd ste 1 clearwater fl  \n",
       "3                  13640 wright cir tampa fl  \n",
       "4         8608 huron court unite 58 tampa fl  "
      ]
     },
     "execution_count": 79,
     "metadata": {},
     "output_type": "execute_result"
    }
   ],
   "source": [
    "df_right.head()"
   ]
  },
  {
   "attachments": {},
   "cell_type": "markdown",
   "id": "1b111e4b",
   "metadata": {},
   "source": [
    "# inner join two dfs and see the perfect match (try)"
   ]
  },
  {
   "cell_type": "code",
   "execution_count": 80,
   "id": "6b21dbab",
   "metadata": {},
   "outputs": [],
   "source": [
    "# Merge address_combined and postal_code into a single column\n",
    "df_left['address_combined_with_zip'] = df_left.apply(lambda row: ' '.join(row[['address_combined', 'zip_code_str']].astype(str)), axis=1)\n",
    "df_right['address_combined_with_zip'] = df_right.apply(lambda row: ' '.join(row[['address_combined', 'zip_code']].astype(str)), axis=1)"
   ]
  },
  {
   "cell_type": "code",
   "execution_count": 81,
   "id": "33a17fa1",
   "metadata": {},
   "outputs": [],
   "source": [
    "import string\n",
    "\n",
    "# Remove punctuation from the \"address_combined_with_zip\" column in both datasets\n",
    "df_left[\"address_combined_with_zip\"] = df_left[\"address_combined_with_zip\"].apply(remove_punct)\n",
    "df_right[\"address_combined_with_zip\"] = df_right[\"address_combined_with_zip\"].apply(remove_punct)"
   ]
  },
  {
   "cell_type": "code",
   "execution_count": 82,
   "id": "5e6edcf2",
   "metadata": {},
   "outputs": [
    {
     "data": {
      "text/html": [
       "<div>\n",
       "<style scoped>\n",
       "    .dataframe tbody tr th:only-of-type {\n",
       "        vertical-align: middle;\n",
       "    }\n",
       "\n",
       "    .dataframe tbody tr th {\n",
       "        vertical-align: top;\n",
       "    }\n",
       "\n",
       "    .dataframe thead th {\n",
       "        text-align: right;\n",
       "    }\n",
       "</style>\n",
       "<table border=\"1\" class=\"dataframe\">\n",
       "  <thead>\n",
       "    <tr style=\"text-align: right;\">\n",
       "      <th></th>\n",
       "      <th>entity_id</th>\n",
       "      <th>name</th>\n",
       "      <th>address</th>\n",
       "      <th>city</th>\n",
       "      <th>state</th>\n",
       "      <th>zip_code_str</th>\n",
       "      <th>address_combined</th>\n",
       "      <th>address_combined_with_zip</th>\n",
       "    </tr>\n",
       "  </thead>\n",
       "  <tbody>\n",
       "    <tr>\n",
       "      <th>0</th>\n",
       "      <td>1</td>\n",
       "      <td>the ups store</td>\n",
       "      <td>87 grasso plaza shopping center</td>\n",
       "      <td>affton</td>\n",
       "      <td>mo</td>\n",
       "      <td>63123</td>\n",
       "      <td>87 grasso plaza shopping center affton mo</td>\n",
       "      <td>87 grasso plaza shopping center affton mo 63123</td>\n",
       "    </tr>\n",
       "    <tr>\n",
       "      <th>1</th>\n",
       "      <td>2</td>\n",
       "      <td>st honore pastries</td>\n",
       "      <td>935 race st</td>\n",
       "      <td>philadelphia</td>\n",
       "      <td>pa</td>\n",
       "      <td>19107</td>\n",
       "      <td>935 race st philadelphia pa</td>\n",
       "      <td>935 race st philadelphia pa 19107</td>\n",
       "    </tr>\n",
       "    <tr>\n",
       "      <th>2</th>\n",
       "      <td>3</td>\n",
       "      <td>perkiomen valley brewery</td>\n",
       "      <td>101 walnut st</td>\n",
       "      <td>green lane</td>\n",
       "      <td>pa</td>\n",
       "      <td>18054</td>\n",
       "      <td>101 walnut st green lane pa</td>\n",
       "      <td>101 walnut st green lane pa 18054</td>\n",
       "    </tr>\n",
       "    <tr>\n",
       "      <th>3</th>\n",
       "      <td>4</td>\n",
       "      <td>sonic drivein</td>\n",
       "      <td>615 s main st</td>\n",
       "      <td>ashland city</td>\n",
       "      <td>tn</td>\n",
       "      <td>37015</td>\n",
       "      <td>615 s main st ashland city tn</td>\n",
       "      <td>615 s main st ashland city tn 37015</td>\n",
       "    </tr>\n",
       "    <tr>\n",
       "      <th>4</th>\n",
       "      <td>5</td>\n",
       "      <td>famous footwear</td>\n",
       "      <td>8522 eager road, dierbergs brentwood point</td>\n",
       "      <td>brentwood</td>\n",
       "      <td>mo</td>\n",
       "      <td>63144</td>\n",
       "      <td>8522 eager road dierbergs brentwood point bren...</td>\n",
       "      <td>8522 eager road dierbergs brentwood point bren...</td>\n",
       "    </tr>\n",
       "  </tbody>\n",
       "</table>\n",
       "</div>"
      ],
      "text/plain": [
       "   entity_id                      name  \\\n",
       "0          1             the ups store   \n",
       "1          2        st honore pastries   \n",
       "2          3  perkiomen valley brewery   \n",
       "3          4             sonic drivein   \n",
       "4          5           famous footwear   \n",
       "\n",
       "                                      address          city state  \\\n",
       "0             87 grasso plaza shopping center        affton    mo   \n",
       "1                                 935 race st  philadelphia    pa   \n",
       "2                               101 walnut st    green lane    pa   \n",
       "3                               615 s main st  ashland city    tn   \n",
       "4  8522 eager road, dierbergs brentwood point     brentwood    mo   \n",
       "\n",
       "  zip_code_str                                   address_combined  \\\n",
       "0        63123          87 grasso plaza shopping center affton mo   \n",
       "1        19107                        935 race st philadelphia pa   \n",
       "2        18054                        101 walnut st green lane pa   \n",
       "3        37015                      615 s main st ashland city tn   \n",
       "4        63144  8522 eager road dierbergs brentwood point bren...   \n",
       "\n",
       "                           address_combined_with_zip  \n",
       "0    87 grasso plaza shopping center affton mo 63123  \n",
       "1                  935 race st philadelphia pa 19107  \n",
       "2                  101 walnut st green lane pa 18054  \n",
       "3                615 s main st ashland city tn 37015  \n",
       "4  8522 eager road dierbergs brentwood point bren...  "
      ]
     },
     "execution_count": 82,
     "metadata": {},
     "output_type": "execute_result"
    }
   ],
   "source": [
    "df_left.head()"
   ]
  },
  {
   "cell_type": "code",
   "execution_count": 83,
   "id": "e7618d77",
   "metadata": {},
   "outputs": [
    {
     "data": {
      "text/html": [
       "<div>\n",
       "<style scoped>\n",
       "    .dataframe tbody tr th:only-of-type {\n",
       "        vertical-align: middle;\n",
       "    }\n",
       "\n",
       "    .dataframe tbody tr th {\n",
       "        vertical-align: top;\n",
       "    }\n",
       "\n",
       "    .dataframe thead th {\n",
       "        text-align: right;\n",
       "    }\n",
       "</style>\n",
       "<table border=\"1\" class=\"dataframe\">\n",
       "  <thead>\n",
       "    <tr style=\"text-align: right;\">\n",
       "      <th></th>\n",
       "      <th>business_id</th>\n",
       "      <th>name</th>\n",
       "      <th>address</th>\n",
       "      <th>city</th>\n",
       "      <th>state</th>\n",
       "      <th>zip_code</th>\n",
       "      <th>address_combined</th>\n",
       "      <th>address_combined_with_zip</th>\n",
       "    </tr>\n",
       "  </thead>\n",
       "  <tbody>\n",
       "    <tr>\n",
       "      <th>0</th>\n",
       "      <td>1</td>\n",
       "      <td>sourini painting inc</td>\n",
       "      <td>12800 44th st n</td>\n",
       "      <td>clearwater</td>\n",
       "      <td>fl</td>\n",
       "      <td>33762</td>\n",
       "      <td>12800 44th st n clearwater fl</td>\n",
       "      <td>12800 44th st n clearwater fl 33762</td>\n",
       "    </tr>\n",
       "    <tr>\n",
       "      <th>1</th>\n",
       "      <td>2</td>\n",
       "      <td>wolff dolla bill llc</td>\n",
       "      <td>1905 e 19th ave</td>\n",
       "      <td>tampa</td>\n",
       "      <td>fl</td>\n",
       "      <td>33605</td>\n",
       "      <td>1905 e 19th ave tampa fl</td>\n",
       "      <td>1905 e 19th ave tampa fl 33605</td>\n",
       "    </tr>\n",
       "    <tr>\n",
       "      <th>2</th>\n",
       "      <td>3</td>\n",
       "      <td>comprehensive surgery center llc</td>\n",
       "      <td>1988 gulf to bay blvd, ste 1</td>\n",
       "      <td>clearwater</td>\n",
       "      <td>fl</td>\n",
       "      <td>33765</td>\n",
       "      <td>1988 gulf to bay blvd ste 1 clearwater fl</td>\n",
       "      <td>1988 gulf to bay blvd ste 1 clearwater fl 33765</td>\n",
       "    </tr>\n",
       "    <tr>\n",
       "      <th>3</th>\n",
       "      <td>4</td>\n",
       "      <td>frank  adam apparel llc</td>\n",
       "      <td>13640 wright cir</td>\n",
       "      <td>tampa</td>\n",
       "      <td>fl</td>\n",
       "      <td>33626</td>\n",
       "      <td>13640 wright cir tampa fl</td>\n",
       "      <td>13640 wright cir tampa fl 33626</td>\n",
       "    </tr>\n",
       "    <tr>\n",
       "      <th>4</th>\n",
       "      <td>5</td>\n",
       "      <td>moreno plus transport inc</td>\n",
       "      <td>8608 huron court unite 58</td>\n",
       "      <td>tampa</td>\n",
       "      <td>fl</td>\n",
       "      <td>33614</td>\n",
       "      <td>8608 huron court unite 58 tampa fl</td>\n",
       "      <td>8608 huron court unite 58 tampa fl 33614</td>\n",
       "    </tr>\n",
       "  </tbody>\n",
       "</table>\n",
       "</div>"
      ],
      "text/plain": [
       "   business_id                              name  \\\n",
       "0            1              sourini painting inc   \n",
       "1            2              wolff dolla bill llc   \n",
       "2            3  comprehensive surgery center llc   \n",
       "3            4           frank  adam apparel llc   \n",
       "4            5         moreno plus transport inc   \n",
       "\n",
       "                        address        city state zip_code  \\\n",
       "0               12800 44th st n  clearwater    fl    33762   \n",
       "1               1905 e 19th ave       tampa    fl    33605   \n",
       "2  1988 gulf to bay blvd, ste 1  clearwater    fl    33765   \n",
       "3              13640 wright cir       tampa    fl    33626   \n",
       "4     8608 huron court unite 58       tampa    fl    33614   \n",
       "\n",
       "                            address_combined  \\\n",
       "0              12800 44th st n clearwater fl   \n",
       "1                   1905 e 19th ave tampa fl   \n",
       "2  1988 gulf to bay blvd ste 1 clearwater fl   \n",
       "3                  13640 wright cir tampa fl   \n",
       "4         8608 huron court unite 58 tampa fl   \n",
       "\n",
       "                         address_combined_with_zip  \n",
       "0              12800 44th st n clearwater fl 33762  \n",
       "1                   1905 e 19th ave tampa fl 33605  \n",
       "2  1988 gulf to bay blvd ste 1 clearwater fl 33765  \n",
       "3                  13640 wright cir tampa fl 33626  \n",
       "4         8608 huron court unite 58 tampa fl 33614  "
      ]
     },
     "execution_count": 83,
     "metadata": {},
     "output_type": "execute_result"
    }
   ],
   "source": [
    "df_right.head()"
   ]
  },
  {
   "cell_type": "code",
   "execution_count": 84,
   "id": "8fa9fdd1",
   "metadata": {},
   "outputs": [
    {
     "data": {
      "text/html": [
       "<div>\n",
       "<style scoped>\n",
       "    .dataframe tbody tr th:only-of-type {\n",
       "        vertical-align: middle;\n",
       "    }\n",
       "\n",
       "    .dataframe tbody tr th {\n",
       "        vertical-align: top;\n",
       "    }\n",
       "\n",
       "    .dataframe thead th {\n",
       "        text-align: right;\n",
       "    }\n",
       "</style>\n",
       "<table border=\"1\" class=\"dataframe\">\n",
       "  <thead>\n",
       "    <tr style=\"text-align: right;\">\n",
       "      <th></th>\n",
       "      <th>entity_id</th>\n",
       "      <th>business_id</th>\n",
       "      <th>name</th>\n",
       "      <th>address_combined_with_zip</th>\n",
       "    </tr>\n",
       "  </thead>\n",
       "  <tbody>\n",
       "    <tr>\n",
       "      <th>0</th>\n",
       "      <td>159</td>\n",
       "      <td>16722</td>\n",
       "      <td>nails  beauty lounge</td>\n",
       "      <td>953 e brandon blvd brandon fl 33511</td>\n",
       "    </tr>\n",
       "    <tr>\n",
       "      <th>1</th>\n",
       "      <td>394</td>\n",
       "      <td>74086</td>\n",
       "      <td>state street kitchen</td>\n",
       "      <td>24 s state st newtown pa 18940</td>\n",
       "    </tr>\n",
       "    <tr>\n",
       "      <th>2</th>\n",
       "      <td>555</td>\n",
       "      <td>69048</td>\n",
       "      <td>a jackson ecker inc</td>\n",
       "      <td>144 king st pottstown pa 19464</td>\n",
       "    </tr>\n",
       "    <tr>\n",
       "      <th>3</th>\n",
       "      <td>608</td>\n",
       "      <td>54989</td>\n",
       "      <td>philadelphia skating club and humane society</td>\n",
       "      <td>220 holland ave ardmore pa 19003</td>\n",
       "    </tr>\n",
       "    <tr>\n",
       "      <th>4</th>\n",
       "      <td>715</td>\n",
       "      <td>74025</td>\n",
       "      <td>golden triangle</td>\n",
       "      <td>610 s 5th st philadelphia pa 19147</td>\n",
       "    </tr>\n",
       "    <tr>\n",
       "      <th>...</th>\n",
       "      <td>...</td>\n",
       "      <td>...</td>\n",
       "      <td>...</td>\n",
       "      <td>...</td>\n",
       "    </tr>\n",
       "    <tr>\n",
       "      <th>512</th>\n",
       "      <td>93796</td>\n",
       "      <td>66065</td>\n",
       "      <td>dml automotive</td>\n",
       "      <td>1001 wilmington pike west chester pa 19382</td>\n",
       "    </tr>\n",
       "    <tr>\n",
       "      <th>513</th>\n",
       "      <td>93810</td>\n",
       "      <td>85588</td>\n",
       "      <td>the spectacle shoppe</td>\n",
       "      <td>1015 westhaven blvd ste 100 franklin tn 37064</td>\n",
       "    </tr>\n",
       "    <tr>\n",
       "      <th>514</th>\n",
       "      <td>93810</td>\n",
       "      <td>85589</td>\n",
       "      <td>the spectacle shoppe</td>\n",
       "      <td>1015 westhaven blvd ste 100 franklin tn 37064</td>\n",
       "    </tr>\n",
       "    <tr>\n",
       "      <th>515</th>\n",
       "      <td>93973</td>\n",
       "      <td>50414</td>\n",
       "      <td>creative nails</td>\n",
       "      <td>4155 lindell blvd saint louis mo 63108</td>\n",
       "    </tr>\n",
       "    <tr>\n",
       "      <th>516</th>\n",
       "      <td>94303</td>\n",
       "      <td>25239</td>\n",
       "      <td>mitchell chiropractic</td>\n",
       "      <td>1580 n mcmullen booth rd clearwater fl 33759</td>\n",
       "    </tr>\n",
       "  </tbody>\n",
       "</table>\n",
       "<p>517 rows × 4 columns</p>\n",
       "</div>"
      ],
      "text/plain": [
       "     entity_id  business_id                                          name  \\\n",
       "0          159        16722                          nails  beauty lounge   \n",
       "1          394        74086                          state street kitchen   \n",
       "2          555        69048                           a jackson ecker inc   \n",
       "3          608        54989  philadelphia skating club and humane society   \n",
       "4          715        74025                               golden triangle   \n",
       "..         ...          ...                                           ...   \n",
       "512      93796        66065                                dml automotive   \n",
       "513      93810        85588                          the spectacle shoppe   \n",
       "514      93810        85589                          the spectacle shoppe   \n",
       "515      93973        50414                                creative nails   \n",
       "516      94303        25239                         mitchell chiropractic   \n",
       "\n",
       "                         address_combined_with_zip  \n",
       "0              953 e brandon blvd brandon fl 33511  \n",
       "1                   24 s state st newtown pa 18940  \n",
       "2                   144 king st pottstown pa 19464  \n",
       "3                 220 holland ave ardmore pa 19003  \n",
       "4               610 s 5th st philadelphia pa 19147  \n",
       "..                                             ...  \n",
       "512     1001 wilmington pike west chester pa 19382  \n",
       "513  1015 westhaven blvd ste 100 franklin tn 37064  \n",
       "514  1015 westhaven blvd ste 100 franklin tn 37064  \n",
       "515         4155 lindell blvd saint louis mo 63108  \n",
       "516   1580 n mcmullen booth rd clearwater fl 33759  \n",
       "\n",
       "[517 rows x 4 columns]"
      ]
     },
     "execution_count": 84,
     "metadata": {},
     "output_type": "execute_result"
    }
   ],
   "source": [
    "# inner join\n",
    "df_perfect_match = pd.merge(df_left, df_right, on=['name', 'address_combined_with_zip'], how='inner')\n",
    "\n",
    "cols = [\"entity_id\",\"business_id\",\"name\",\"address_combined_with_zip\"]\n",
    "df_perfect_match[cols]"
   ]
  },
  {
   "cell_type": "code",
   "execution_count": 85,
   "id": "5a971ecf",
   "metadata": {},
   "outputs": [
    {
     "name": "stdout",
     "output_type": "stream",
     "text": [
      "Number of perfect match: 517\n"
     ]
    }
   ],
   "source": [
    "# number of perfect match\n",
    "print(f\"Number of perfect match: {len(df_perfect_match)}\")"
   ]
  },
  {
   "attachments": {},
   "cell_type": "markdown",
   "id": "e6936227",
   "metadata": {},
   "source": [
    "# Grouping & bucketing strategy - by zip code\n",
    "https://www.kaggle.com/code/satishgunjal/fuzzy-record-matching-using-machine-learning#Introduction"
   ]
  },
  {
   "attachments": {},
   "cell_type": "markdown",
   "id": "d3cafbfa",
   "metadata": {},
   "source": [
    "## Examine groups"
   ]
  },
  {
   "cell_type": "code",
   "execution_count": 86,
   "id": "41f120c0",
   "metadata": {},
   "outputs": [
    {
     "data": {
      "text/plain": [
       "744"
      ]
     },
     "execution_count": 86,
     "metadata": {},
     "output_type": "execute_result"
    }
   ],
   "source": [
    "len(set(df_left[\"zip_code_str\"]))\n"
   ]
  },
  {
   "cell_type": "code",
   "execution_count": 87,
   "id": "c450b2c4",
   "metadata": {},
   "outputs": [
    {
     "data": {
      "text/plain": [
       "459"
      ]
     },
     "execution_count": 87,
     "metadata": {},
     "output_type": "execute_result"
    }
   ],
   "source": [
    "len(set(df_right[\"zip_code\"]))"
   ]
  },
  {
   "cell_type": "code",
   "execution_count": 88,
   "id": "4938a706",
   "metadata": {},
   "outputs": [
    {
     "data": {
      "text/plain": [
       "19103    1361\n",
       "19107    1353\n",
       "19147    1255\n",
       "37203    1179\n",
       "33511     940\n",
       "         ... \n",
       "38066       1\n",
       "46211       1\n",
       "37130       1\n",
       "37604       1\n",
       "33595       1\n",
       "Name: zip_code_str, Length: 744, dtype: int64"
      ]
     },
     "execution_count": 88,
     "metadata": {},
     "output_type": "execute_result"
    }
   ],
   "source": [
    "# count by zip code\n",
    "counts_left = df_left[\"zip_code_str\"].value_counts()\n",
    "counts_left"
   ]
  },
  {
   "cell_type": "code",
   "execution_count": 89,
   "id": "54866187",
   "metadata": {},
   "outputs": [
    {
     "data": {
      "text/plain": [
       "37203    1258\n",
       "37064    1139\n",
       "19103    1051\n",
       "37211    1028\n",
       "33511     992\n",
       "37067     886\n",
       "33606     872\n",
       "33614     871\n",
       "19382     840\n",
       "19107     821\n",
       "Name: zip_code, dtype: int64"
      ]
     },
     "execution_count": 89,
     "metadata": {},
     "output_type": "execute_result"
    }
   ],
   "source": [
    "counts_right = df_right[\"zip_code\"].value_counts()\n",
    "counts_right.head(10)"
   ]
  },
  {
   "cell_type": "code",
   "execution_count": 90,
   "id": "2f7e8a26",
   "metadata": {},
   "outputs": [
    {
     "data": {
      "image/png": "[encoded data removed]",
      "text/plain": [
       "<Figure size 640x480 with 1 Axes>"
      ]
     },
     "metadata": {},
     "output_type": "display_data"
    }
   ],
   "source": [
    "import matplotlib.pyplot as plt\n",
    "\n",
    "counts_left.plot(kind=\"hist\", bins=50)\n",
    "plt.show()"
   ]
  },
  {
   "cell_type": "code",
   "execution_count": 91,
   "id": "02ae2346",
   "metadata": {},
   "outputs": [
    {
     "data": {
      "image/png": "[encoded data removed]",
      "text/plain": [
       "<Figure size 640x480 with 1 Axes>"
      ]
     },
     "metadata": {},
     "output_type": "display_data"
    }
   ],
   "source": [
    "\n",
    "counts_right.plot(kind=\"hist\", bins=50)\n",
    "plt.show()"
   ]
  },
  {
   "cell_type": "code",
   "execution_count": 92,
   "id": "6e414600",
   "metadata": {},
   "outputs": [
    {
     "name": "stdout",
     "output_type": "stream",
     "text": [
      "There are 29 zip codes with counts > 500.\n",
      "There are 183 zip codes with counts > 200.\n",
      "There are 287 zip codes with counts > 100.\n",
      "There are 358 zip codes with counts > 50.\n",
      "There are 495 zip codes with counts > 5.\n",
      "There are 242 zip codes with counts < 5.\n"
     ]
    }
   ],
   "source": [
    "# left\n",
    "print(f\"There are {(counts_left > 500).sum()} zip codes with counts > 500.\")\n",
    "print(f\"There are {(counts_left > 200).sum()} zip codes with counts > 200.\")\n",
    "print(f\"There are {(counts_left > 100).sum()} zip codes with counts > 100.\")\n",
    "print(f\"There are {(counts_left > 50).sum()} zip codes with counts > 50.\")\n",
    "print(f\"There are {(counts_left > 5).sum()} zip codes with counts > 5.\")\n",
    "print(f\"There are {(counts_left < 5).sum()} zip codes with counts < 5.\")"
   ]
  },
  {
   "cell_type": "code",
   "execution_count": 93,
   "id": "db6f4878",
   "metadata": {},
   "outputs": [
    {
     "name": "stdout",
     "output_type": "stream",
     "text": [
      "There are 54 zip codes with counts > 500.\n",
      "There are 186 zip codes with counts > 200.\n",
      "There are 228 zip codes with counts > 100.\n",
      "There are 256 zip codes with counts > 50.\n",
      "There are 280 zip codes with counts > 5.\n",
      "There are 170 zip codes with counts < 5.\n"
     ]
    }
   ],
   "source": [
    "# right\n",
    "print(f\"There are {(counts_right > 500).sum()} zip codes with counts > 500.\")\n",
    "print(f\"There are {(counts_right > 200).sum()} zip codes with counts > 200.\")\n",
    "print(f\"There are {(counts_right > 100).sum()} zip codes with counts > 100.\")\n",
    "print(f\"There are {(counts_right > 50).sum()} zip codes with counts > 50.\")\n",
    "print(f\"There are {(counts_right > 5).sum()} zip codes with counts > 5.\")\n",
    "print(f\"There are {(counts_right < 5).sum()} zip codes with counts < 5.\")"
   ]
  },
  {
   "attachments": {},
   "cell_type": "markdown",
   "id": "010ac864",
   "metadata": {},
   "source": [
    "## Algorithms"
   ]
  },
  {
   "cell_type": "code",
   "execution_count": 94,
   "id": "a6fcadff",
   "metadata": {},
   "outputs": [],
   "source": [
    "import difflib\n",
    "\n",
    "# Define a function with difflib\n",
    "def calculate_matching_score_difflib(left_row, right_row):\n",
    "    # Concatenate the relevant columns into a single string for each record\n",
    "    left_string = left_row[\"name\"] + left_row[\"address_combined\"]\n",
    "    right_string = right_row[\"name\"] + right_row[\"address_combined\"]\n",
    "    \n",
    "    # Calculate the matching score using the SequenceMatcher class from the difflib module\n",
    "    matcher = difflib.SequenceMatcher(None, left_string.lower(), right_string.lower())\n",
    "    return matcher.ratio()"
   ]
  },
  {
   "cell_type": "code",
   "execution_count": 95,
   "id": "423923dd",
   "metadata": {},
   "outputs": [],
   "source": [
    "from fuzzywuzzy import fuzz\n",
    "\n",
    "# Define a function with fuzzywuzzy\n",
    "def calculate_matching_score_fuzzywuzzy(left_row, right_row):\n",
    "    name_similarity = fuzz.token_sort_ratio(left_row['name'], right_row['name'])\n",
    "    address_similarity = fuzz.token_sort_ratio(left_row['address_combined'], right_row['address_combined'])\n",
    "    confidence = 0.6 * name_similarity + 0.4 * address_similarity\n",
    "    return confidence"
   ]
  },
  {
   "cell_type": "code",
   "execution_count": 96,
   "id": "dab26f1f",
   "metadata": {},
   "outputs": [],
   "source": [
    "match_list_difflib = []\n",
    "match_list_fuzzywuzzy = []"
   ]
  },
  {
   "attachments": {},
   "cell_type": "markdown",
   "id": "5eee1900",
   "metadata": {},
   "source": [
    "## zip codes with counts > 200 (183 zip codes): match within its own group"
   ]
  },
  {
   "cell_type": "code",
   "execution_count": 97,
   "id": "c08ba2e8",
   "metadata": {},
   "outputs": [],
   "source": [
    "# zip codes in df_left with counts > 200\n",
    "df_left_zip_codes_gt_200 = counts_left[counts_left > 200].index.tolist()"
   ]
  },
  {
   "cell_type": "code",
   "execution_count": 98,
   "id": "6a0135d3",
   "metadata": {},
   "outputs": [],
   "source": [
    "# This code block takes 170 mins to run successfully -> 187m include fuzzywuzzy\n",
    "#match_list = []\n",
    "\n",
    "# Iterate over the zip codes\n",
    "for zip_code in df_left_zip_codes_gt_200:\n",
    "    if zip_code in counts_right.index:\n",
    "        # Filter the rows in df_left and df_right by the zip code\n",
    "        df_left_zip = df_left[df_left[\"zip_code_str\"] == zip_code]\n",
    "        df_right_zip = df_right[df_right[\"zip_code\"] == zip_code]\n",
    "        \n",
    "        # Iterate over each pair of records\n",
    "        for left_index, left_row in df_left_zip.iterrows():\n",
    "            for right_index, right_row in df_right_zip.iterrows():\n",
    "                # Calculate the matching score for this pair of records\n",
    "                matching_score_difflib = calculate_matching_score_difflib(left_row, right_row)\n",
    "                \n",
    "                # use fuzzywuzzy to calculate score\n",
    "                matching_score_fuzzywuzzy = calculate_matching_score_fuzzywuzzy(left_row, right_row)\n",
    "\n",
    "                if matching_score_fuzzywuzzy > 80:\n",
    "                    match_list_fuzzywuzzy.append((left_row['entity_id'], right_row['business_id'], matching_score_fuzzywuzzy/100))\n",
    "\n",
    "                # add matching record to the difflib_list\n",
    "                match_list_difflib.append((left_row['entity_id'], right_row['business_id'], matching_score_difflib))"
   ]
  },
  {
   "cell_type": "code",
   "execution_count": 99,
   "id": "babf1182",
   "metadata": {},
   "outputs": [
    {
     "data": {
      "text/plain": [
       "[(119, 51381, 0.49019607843137253),\n",
       " (119, 51382, 0.49523809523809526),\n",
       " (119, 51408, 0.5473684210526316),\n",
       " (119, 51410, 0.5567010309278351),\n",
       " (119, 51444, 0.5504587155963303),\n",
       " (119, 51445, 0.49572649572649574),\n",
       " (119, 51492, 0.4122137404580153),\n",
       " (119, 51513, 0.5333333333333333),\n",
       " (119, 51568, 0.47368421052631576),\n",
       " (119, 51570, 0.5154639175257731),\n",
       " (119, 51595, 0.5348837209302325),\n",
       " (119, 51596, 0.5348837209302325),\n",
       " (119, 51604, 0.46956521739130436),\n",
       " (119, 51610, 0.47368421052631576),\n",
       " (119, 51611, 0.47368421052631576),\n",
       " (119, 51620, 0.43333333333333335),\n",
       " (119, 51622, 0.4444444444444444),\n",
       " (119, 51634, 0.5306122448979592),\n",
       " (119, 51647, 0.5416666666666666),\n",
       " (119, 51663, 0.42990654205607476)]"
      ]
     },
     "execution_count": 99,
     "metadata": {},
     "output_type": "execute_result"
    }
   ],
   "source": [
    "match_list_difflib[:20]"
   ]
  },
  {
   "cell_type": "code",
   "execution_count": 100,
   "id": "408372e4",
   "metadata": {},
   "outputs": [
    {
     "data": {
      "text/plain": [
       "[(831, 69884, 0.904),\n",
       " (831, 73186, 0.976),\n",
       " (1809, 64807, 0.8619999999999999),\n",
       " (2401, 64413, 0.8859999999999999),\n",
       " (2826, 65833, 1.0),\n",
       " (4326, 78126, 0.934),\n",
       " (5295, 56172, 0.91),\n",
       " (5841, 71376, 0.976),\n",
       " (6021, 55792, 1.0),\n",
       " (7282, 52610, 1.0),\n",
       " (7282, 52611, 1.0),\n",
       " (7290, 57562, 0.946),\n",
       " (8626, 68891, 1.0),\n",
       " (8626, 68892, 0.9359999999999999),\n",
       " (10131, 79654, 1.0),\n",
       " (10831, 76806, 0.934),\n",
       " (11117, 56318, 0.85),\n",
       " (12072, 53863, 0.904),\n",
       " (12227, 71433, 0.9440000000000001),\n",
       " (13254, 56257, 0.922)]"
      ]
     },
     "execution_count": 100,
     "metadata": {},
     "output_type": "execute_result"
    }
   ],
   "source": [
    "match_list_fuzzywuzzy[:20]"
   ]
  },
  {
   "attachments": {},
   "cell_type": "markdown",
   "id": "c94bbbb6",
   "metadata": {},
   "source": [
    "## zip codes with counts (100,200]: form one group"
   ]
  },
  {
   "cell_type": "code",
   "execution_count": 101,
   "id": "d18384c7",
   "metadata": {},
   "outputs": [],
   "source": [
    "# zip codes in df_left with counts 100-200\n",
    "df_left_zip_codes_100_to_200 = counts_left[(counts_left > 100) & (counts_left <= 200)].index.tolist()"
   ]
  },
  {
   "cell_type": "code",
   "execution_count": 102,
   "id": "4144c856",
   "metadata": {},
   "outputs": [],
   "source": [
    "# # 11 mins\n",
    "# # Iterate over the zip codes\n",
    "# for zip_code in df_left_zip_codes_100_to_200:\n",
    "#     if zip_code in counts_right.index:\n",
    "#         # Filter the rows in df_left and df_right by the zip code\n",
    "#         df_left_zip = df_left[df_left[\"zip_code_str\"] == zip_code]\n",
    "#         df_right_zip = df_right[df_right[\"zip_code\"] == zip_code]\n",
    "        \n",
    "#         # Iterate over each pair of records\n",
    "#         for left_index, left_row in df_left_zip.iterrows():\n",
    "#             for right_index, right_row in df_right_zip.iterrows():\n",
    "#                 # Calculate the matching score for this pair of records\n",
    "#                 matching_score = calculate_matching_score(left_row, right_row)\n",
    "                \n",
    "#                 # add matching record to the list\n",
    "#                 match_list.append((left_row['entity_id'], right_row['business_id'], matching_score))"
   ]
  },
  {
   "cell_type": "code",
   "execution_count": 103,
   "id": "cd7a2545",
   "metadata": {},
   "outputs": [],
   "source": [
    "# 11 mins -> 13m include fuzzywuzzy\n",
    "# Iterate over the zip codes\n",
    "for zip_code in df_left_zip_codes_100_to_200:\n",
    "    if zip_code in counts_right.index:\n",
    "        # Filter the rows in df_left and df_right by the zip code\n",
    "        df_left_zip = df_left[df_left[\"zip_code_str\"] == zip_code]\n",
    "        df_right_zip = df_right[df_right[\"zip_code\"] == zip_code]\n",
    "        \n",
    "        # Iterate over each pair of records\n",
    "        for left_index, left_row in df_left_zip.iterrows():\n",
    "            for right_index, right_row in df_right_zip.iterrows():\n",
    "                # Calculate the matching score for this pair of records\n",
    "                matching_score_difflib = calculate_matching_score_difflib(left_row, right_row)\n",
    "                \n",
    "                # use fuzzywuzzy to calculate score\n",
    "                matching_score_fuzzywuzzy = calculate_matching_score_fuzzywuzzy(left_row, right_row)\n",
    "\n",
    "                if matching_score_fuzzywuzzy > 80:\n",
    "                    match_list_fuzzywuzzy.append((left_row['entity_id'], right_row['business_id'], matching_score_fuzzywuzzy/100))\n",
    "\n",
    "                # add matching record to the difflib_list\n",
    "                match_list_difflib.append((left_row['entity_id'], right_row['business_id'], matching_score_difflib))"
   ]
  },
  {
   "attachments": {},
   "cell_type": "markdown",
   "id": "f0f598c0",
   "metadata": {},
   "source": [
    "## zip codes with counts (5,100]: form one group"
   ]
  },
  {
   "cell_type": "code",
   "execution_count": 104,
   "id": "020446a4",
   "metadata": {},
   "outputs": [],
   "source": [
    "# zip codes in df_left with counts 5-100\n",
    "df_left_zip_codes_5_to_100 = counts_left[(counts_left > 5) & (counts_left <= 100)].index.tolist()"
   ]
  },
  {
   "cell_type": "code",
   "execution_count": 105,
   "id": "407660c4",
   "metadata": {},
   "outputs": [],
   "source": [
    "# # 3 mins\n",
    "# # Iterate over the zip codes\n",
    "# for zip_code in df_left_zip_codes_5_to_100:\n",
    "#     if zip_code in counts_right.index:\n",
    "#         # Filter the rows in df_left and df_right by the zip code\n",
    "#         df_left_zip = df_left[df_left[\"zip_code_str\"] == zip_code]\n",
    "#         df_right_zip = df_right[df_right[\"zip_code\"] == zip_code]\n",
    "        \n",
    "#         # Iterate over each pair of records\n",
    "#         for left_index, left_row in df_left_zip.iterrows():\n",
    "#             for right_index, right_row in df_right_zip.iterrows():\n",
    "#                 # Calculate the matching score for this pair of records\n",
    "#                 matching_score = calculate_matching_score(left_row, right_row)\n",
    "                \n",
    "#                 # add matching record to the list\n",
    "#                 match_list.append((left_row['entity_id'], right_row['business_id'], matching_score))"
   ]
  },
  {
   "cell_type": "code",
   "execution_count": 106,
   "id": "538e21c7",
   "metadata": {},
   "outputs": [],
   "source": [
    "# 3 mins -> 3m include fuzzywuzzy\n",
    "# Iterate over the zip codes\n",
    "for zip_code in df_left_zip_codes_5_to_100:\n",
    "    if zip_code in counts_right.index:\n",
    "        # Filter the rows in df_left and df_right by the zip code\n",
    "        df_left_zip = df_left[df_left[\"zip_code_str\"] == zip_code]\n",
    "        df_right_zip = df_right[df_right[\"zip_code\"] == zip_code]\n",
    "        \n",
    "        # Iterate over each pair of records\n",
    "        for left_index, left_row in df_left_zip.iterrows():\n",
    "            for right_index, right_row in df_right_zip.iterrows():\n",
    "                # Calculate the matching score for this pair of records\n",
    "                matching_score_difflib = calculate_matching_score_difflib(left_row, right_row)\n",
    "                \n",
    "                # use fuzzywuzzy to calculate score\n",
    "                matching_score_fuzzywuzzy = calculate_matching_score_fuzzywuzzy(left_row, right_row)\n",
    "\n",
    "                if matching_score_fuzzywuzzy > 80:\n",
    "                    match_list_fuzzywuzzy.append((left_row['entity_id'], right_row['business_id'], matching_score_fuzzywuzzy/100))\n",
    "\n",
    "                # add matching record to the difflib_list\n",
    "                match_list_difflib.append((left_row['entity_id'], right_row['business_id'], matching_score_difflib))"
   ]
  },
  {
   "attachments": {},
   "cell_type": "markdown",
   "id": "4ad207ac",
   "metadata": {},
   "source": [
    "## zip codes with counts (0,5]: form one group"
   ]
  },
  {
   "cell_type": "code",
   "execution_count": 107,
   "id": "a2493b4f",
   "metadata": {},
   "outputs": [],
   "source": [
    "# zip codes in df_left with counts <=5\n",
    "df_left_zip_codes_lt_5 = counts_left[counts_left <= 5].index.tolist()"
   ]
  },
  {
   "cell_type": "code",
   "execution_count": 108,
   "id": "d047b0c7",
   "metadata": {},
   "outputs": [],
   "source": [
    "# # Iterate over the zip codes\n",
    "# for zip_code in df_left_zip_codes_lt_5:\n",
    "#     if zip_code in counts_right.index:\n",
    "#         # Filter the rows in df_left and df_right by the zip code\n",
    "#         df_left_zip = df_left[df_left[\"zip_code_str\"] == zip_code]\n",
    "#         df_right_zip = df_right[df_right[\"zip_code\"] == zip_code]\n",
    "        \n",
    "#         # Iterate over each pair of records\n",
    "#         for left_index, left_row in df_left_zip.iterrows():\n",
    "#             for right_index, right_row in df_right_zip.iterrows():\n",
    "#                 # Calculate the matching score for this pair of records\n",
    "#                 matching_score = calculate_matching_score(left_row, right_row)\n",
    "                \n",
    "#                 # add matching record to the list\n",
    "#                 match_list.append((left_row['entity_id'], right_row['business_id'], matching_score))"
   ]
  },
  {
   "cell_type": "code",
   "execution_count": 109,
   "id": "3ca62f69",
   "metadata": {},
   "outputs": [],
   "source": [
    "# Iterate over the zip codes -> 1s include fuzzywuzzy\n",
    "for zip_code in df_left_zip_codes_lt_5:\n",
    "    if zip_code in counts_right.index:\n",
    "        # Filter the rows in df_left and df_right by the zip code\n",
    "        df_left_zip = df_left[df_left[\"zip_code_str\"] == zip_code]\n",
    "        df_right_zip = df_right[df_right[\"zip_code\"] == zip_code]\n",
    "        \n",
    "        # Iterate over each pair of records\n",
    "        for left_index, left_row in df_left_zip.iterrows():\n",
    "            for right_index, right_row in df_right_zip.iterrows():\n",
    "                # Calculate the matching score for this pair of records\n",
    "                matching_score_difflib = calculate_matching_score_difflib(left_row, right_row)\n",
    "                \n",
    "                # use fuzzywuzzy to calculate score\n",
    "                matching_score_fuzzywuzzy = calculate_matching_score_fuzzywuzzy(left_row, right_row)\n",
    "\n",
    "                if matching_score_fuzzywuzzy > 80:\n",
    "                    match_list_fuzzywuzzy.append((left_row['entity_id'], right_row['business_id'], matching_score_fuzzywuzzy/100))\n",
    "\n",
    "                # add matching record to the difflib_list\n",
    "                match_list_difflib.append((left_row['entity_id'], right_row['business_id'], matching_score_difflib))"
   ]
  },
  {
   "attachments": {},
   "cell_type": "markdown",
   "id": "a3926556",
   "metadata": {},
   "source": [
    "# Examine matching score"
   ]
  },
  {
   "attachments": {},
   "cell_type": "markdown",
   "id": "5a476b93",
   "metadata": {},
   "source": [
    "## SequenceMatcher from difflib"
   ]
  },
  {
   "cell_type": "code",
   "execution_count": 110,
   "id": "aa23ed69",
   "metadata": {},
   "outputs": [],
   "source": [
    "# sort list in descending order\n",
    "match_list_difflib.sort(key=lambda x: x[2], reverse=True)"
   ]
  },
  {
   "cell_type": "code",
   "execution_count": 111,
   "id": "4e15ca15",
   "metadata": {},
   "outputs": [
    {
     "data": {
      "text/plain": [
       "[(2826, 65833, 1.0),\n",
       " (6021, 55792, 1.0),\n",
       " (7282, 52610, 1.0),\n",
       " (7282, 52611, 1.0),\n",
       " (8626, 68891, 1.0),\n",
       " (10131, 79654, 1.0),\n",
       " (14727, 59239, 1.0),\n",
       " (14727, 60102, 1.0),\n",
       " (27928, 67132, 1.0),\n",
       " (27928, 67133, 1.0),\n",
       " (38023, 61664, 1.0),\n",
       " (38023, 61665, 1.0),\n",
       " (51034, 77495, 1.0),\n",
       " (66500, 55178, 1.0),\n",
       " (70242, 60990, 1.0),\n",
       " (72850, 51410, 1.0),\n",
       " (73468, 51620, 1.0),\n",
       " (88239, 76679, 1.0),\n",
       " (4663, 63976, 1.0),\n",
       " (6554, 78647, 1.0)]"
      ]
     },
     "execution_count": 111,
     "metadata": {},
     "output_type": "execute_result"
    }
   ],
   "source": [
    "# examine match_list top 20\n",
    "match_list_difflib[:20]"
   ]
  },
  {
   "cell_type": "code",
   "execution_count": 112,
   "id": "8194ce7b",
   "metadata": {},
   "outputs": [
    {
     "data": {
      "image/png": "[encoded data removed]",
      "text/plain": [
       "<Figure size 640x480 with 1 Axes>"
      ]
     },
     "metadata": {},
     "output_type": "display_data"
    }
   ],
   "source": [
    "# distribution of matching_score\n",
    "import matplotlib.pyplot as plt\n",
    "\n",
    "# Extract matching scores from the match_list\n",
    "scores = [score for _, _, score in match_list_difflib]\n",
    "\n",
    "# Plot a histogram of the scores\n",
    "plt.hist(scores, bins=30)\n",
    "plt.xlabel('Matching Score_difflib')\n",
    "plt.ylabel('Frequency')\n",
    "plt.title('Distribution of Matching Scores (difflib)')\n",
    "plt.show()"
   ]
  },
  {
   "cell_type": "code",
   "execution_count": 113,
   "id": "38149971",
   "metadata": {},
   "outputs": [
    {
     "data": {
      "image/png": "[encoded data removed]",
      "text/plain": [
       "<Figure size 640x480 with 1 Axes>"
      ]
     },
     "metadata": {},
     "output_type": "display_data"
    }
   ],
   "source": [
    "# distribution of matching_score > 0.8\n",
    "import matplotlib.pyplot as plt\n",
    "\n",
    "# Extract matching scores from the match_list\n",
    "scores = [score for _, _, score in match_list_difflib if score >= 0.8]\n",
    "\n",
    "# Plot a histogram of the scores\n",
    "plt.hist(scores, bins=30)\n",
    "plt.xlabel('Matching Score_difflib')\n",
    "plt.ylabel('Frequency')\n",
    "plt.title('Distribution of Matching Scores (difflib)')\n",
    "plt.show()"
   ]
  },
  {
   "cell_type": "code",
   "execution_count": 114,
   "id": "0ab0bb9c",
   "metadata": {},
   "outputs": [
    {
     "name": "stdout",
     "output_type": "stream",
     "text": [
      "Number of perfect matches: 517\n"
     ]
    }
   ],
   "source": [
    "# number of perfect match based on current algorithm is 351\n",
    "num_perfect_matches_difflib = 0\n",
    "\n",
    "for match in match_list_difflib:\n",
    "    if match[2] == 1:\n",
    "        num_perfect_matches_difflib += 1\n",
    "        \n",
    "print(\"Number of perfect matches:\", num_perfect_matches_difflib)"
   ]
  },
  {
   "attachments": {},
   "cell_type": "markdown",
   "id": "03f60382",
   "metadata": {},
   "source": [
    "The number of perfect match based on current algorithm is 351. The number of perfect match based on previous inner-join algorithm is also 351, partly proving that this algorithm is effective and meaningful."
   ]
  },
  {
   "attachments": {},
   "cell_type": "markdown",
   "id": "670623a8",
   "metadata": {},
   "source": [
    "## fuzzywuzzy"
   ]
  },
  {
   "cell_type": "code",
   "execution_count": 115,
   "id": "ec9386af",
   "metadata": {},
   "outputs": [],
   "source": [
    "# sort list in descending order\n",
    "match_list_fuzzywuzzy.sort(key=lambda x: x[2], reverse=True)"
   ]
  },
  {
   "cell_type": "code",
   "execution_count": 116,
   "id": "32214065",
   "metadata": {},
   "outputs": [
    {
     "data": {
      "text/plain": [
       "[(2826, 65833, 1.0),\n",
       " (6021, 55792, 1.0),\n",
       " (7282, 52610, 1.0),\n",
       " (7282, 52611, 1.0),\n",
       " (8626, 68891, 1.0),\n",
       " (10131, 79654, 1.0),\n",
       " (14727, 59239, 1.0),\n",
       " (14727, 60102, 1.0),\n",
       " (27928, 67132, 1.0),\n",
       " (27928, 67133, 1.0),\n",
       " (38023, 61664, 1.0),\n",
       " (38023, 61665, 1.0),\n",
       " (51034, 77495, 1.0),\n",
       " (66500, 55178, 1.0),\n",
       " (70242, 60990, 1.0),\n",
       " (72850, 51410, 1.0),\n",
       " (73468, 51620, 1.0),\n",
       " (88239, 76679, 1.0),\n",
       " (4663, 63976, 1.0),\n",
       " (6554, 78647, 1.0)]"
      ]
     },
     "execution_count": 116,
     "metadata": {},
     "output_type": "execute_result"
    }
   ],
   "source": [
    "# examine match_list top 20\n",
    "match_list_fuzzywuzzy[:20]"
   ]
  },
  {
   "cell_type": "code",
   "execution_count": 117,
   "id": "881a51c5",
   "metadata": {},
   "outputs": [
    {
     "data": {
      "image/png": "[encoded data removed]",
      "text/plain": [
       "<Figure size 640x480 with 1 Axes>"
      ]
     },
     "metadata": {},
     "output_type": "display_data"
    }
   ],
   "source": [
    "# distribution of matching_score\n",
    "import matplotlib.pyplot as plt\n",
    "\n",
    "# Extract matching scores from the match_list\n",
    "scores = [score for _, _, score in match_list_fuzzywuzzy]\n",
    "\n",
    "# Plot a histogram of the scores\n",
    "plt.hist(scores, bins=30)\n",
    "plt.xlabel('Matching Score_fuzzywuzzy')\n",
    "plt.ylabel('Frequency')\n",
    "plt.title('Distribution of Matching Scores (fuzzywuzzy)')\n",
    "plt.show()"
   ]
  },
  {
   "cell_type": "code",
   "execution_count": 118,
   "id": "b8de5e73",
   "metadata": {},
   "outputs": [
    {
     "name": "stdout",
     "output_type": "stream",
     "text": [
      "Number of perfect matches: 526\n"
     ]
    }
   ],
   "source": [
    "# number of perfect match based on current algorithm is \n",
    "num_perfect_matches_fuzzywuzzy = 0\n",
    "\n",
    "for match in match_list_fuzzywuzzy:\n",
    "    if match[2] == 1:\n",
    "        num_perfect_matches_fuzzywuzzy += 1\n",
    "        \n",
    "print(\"Number of perfect matches:\", num_perfect_matches_fuzzywuzzy)"
   ]
  },
  {
   "attachments": {},
   "cell_type": "markdown",
   "id": "c0e2d3af",
   "metadata": {},
   "source": [
    "## Examine the difference in results from difflib and fuzzywuzzy"
   ]
  },
  {
   "cell_type": "code",
   "execution_count": 119,
   "id": "1c7cd3ef",
   "metadata": {},
   "outputs": [],
   "source": [
    "perfect_matches_difflib = []\n",
    "\n",
    "for match in match_list_difflib:\n",
    "    if match[2] == 1:\n",
    "        perfect_matches_difflib.append(match)"
   ]
  },
  {
   "cell_type": "code",
   "execution_count": 120,
   "id": "2d860cc4",
   "metadata": {},
   "outputs": [],
   "source": [
    "perfect_matches_fuzzywuzzy = []\n",
    "\n",
    "for match in match_list_fuzzywuzzy:\n",
    "    if match[2] == 1:\n",
    "        perfect_matches_fuzzywuzzy.append(match)"
   ]
  },
  {
   "cell_type": "code",
   "execution_count": 121,
   "id": "e1645fa8",
   "metadata": {},
   "outputs": [],
   "source": [
    "perfect_matches_fuzzywuzzy_only = [match for match in perfect_matches_fuzzywuzzy if match not in perfect_matches_difflib]"
   ]
  },
  {
   "cell_type": "code",
   "execution_count": 122,
   "id": "6c5444f7",
   "metadata": {},
   "outputs": [
    {
     "data": {
      "text/plain": [
       "9"
      ]
     },
     "execution_count": 122,
     "metadata": {},
     "output_type": "execute_result"
    }
   ],
   "source": [
    "# fuzzywuzzy has 9 perfect match records more than difflib\n",
    "len(perfect_matches_fuzzywuzzy_only)"
   ]
  },
  {
   "cell_type": "code",
   "execution_count": 123,
   "id": "e6c2f2ee",
   "metadata": {},
   "outputs": [
    {
     "data": {
      "text/plain": [
       "[(14930, 28497, 1.0),\n",
       " (12023, 22650, 1.0),\n",
       " (43869, 80868, 1.0),\n",
       " (71144, 73025, 1.0),\n",
       " (49067, 60264, 1.0),\n",
       " (9197, 80636, 1.0),\n",
       " (40504, 18805, 1.0),\n",
       " (7822, 16491, 1.0),\n",
       " (57485, 27255, 1.0)]"
      ]
     },
     "execution_count": 123,
     "metadata": {},
     "output_type": "execute_result"
    }
   ],
   "source": [
    "# the perfect match records that only exist in fuzzywuzzy result\n",
    "perfect_matches_fuzzywuzzy_only"
   ]
  },
  {
   "attachments": {},
   "cell_type": "markdown",
   "id": "7dbd4c2f",
   "metadata": {},
   "source": [
    "### Examine (14930, 28497, 1.0)\n",
    "* two records looks the same, so they are perfect match"
   ]
  },
  {
   "cell_type": "code",
   "execution_count": 134,
   "id": "7677922e",
   "metadata": {},
   "outputs": [
    {
     "data": {
      "text/html": [
       "<div>\n",
       "<style scoped>\n",
       "    .dataframe tbody tr th:only-of-type {\n",
       "        vertical-align: middle;\n",
       "    }\n",
       "\n",
       "    .dataframe tbody tr th {\n",
       "        vertical-align: top;\n",
       "    }\n",
       "\n",
       "    .dataframe thead th {\n",
       "        text-align: right;\n",
       "    }\n",
       "</style>\n",
       "<table border=\"1\" class=\"dataframe\">\n",
       "  <thead>\n",
       "    <tr style=\"text-align: right;\">\n",
       "      <th></th>\n",
       "      <th>entity_id</th>\n",
       "      <th>name</th>\n",
       "      <th>address</th>\n",
       "      <th>city</th>\n",
       "      <th>state</th>\n",
       "      <th>zip_code_str</th>\n",
       "      <th>address_combined</th>\n",
       "      <th>address_combined_with_zip</th>\n",
       "    </tr>\n",
       "  </thead>\n",
       "  <tbody>\n",
       "    <tr>\n",
       "      <th>14929</th>\n",
       "      <td>14930</td>\n",
       "      <td>windsor jewelry</td>\n",
       "      <td>16 n meridian st</td>\n",
       "      <td>indianapolis</td>\n",
       "      <td>in</td>\n",
       "      <td>46204</td>\n",
       "      <td>16 n meridian st indianapolis in</td>\n",
       "      <td>16 n meridian st indianapolis in 46204</td>\n",
       "    </tr>\n",
       "  </tbody>\n",
       "</table>\n",
       "</div>"
      ],
      "text/plain": [
       "       entity_id             name           address          city state  \\\n",
       "14929      14930  windsor jewelry  16 n meridian st  indianapolis    in   \n",
       "\n",
       "      zip_code_str                  address_combined  \\\n",
       "14929        46204  16 n meridian st indianapolis in   \n",
       "\n",
       "                    address_combined_with_zip  \n",
       "14929  16 n meridian st indianapolis in 46204  "
      ]
     },
     "execution_count": 134,
     "metadata": {},
     "output_type": "execute_result"
    }
   ],
   "source": [
    "df_left[df_left[\"entity_id\"] == 14930]"
   ]
  },
  {
   "cell_type": "code",
   "execution_count": 135,
   "id": "4de0e3ef",
   "metadata": {},
   "outputs": [
    {
     "data": {
      "text/html": [
       "<div>\n",
       "<style scoped>\n",
       "    .dataframe tbody tr th:only-of-type {\n",
       "        vertical-align: middle;\n",
       "    }\n",
       "\n",
       "    .dataframe tbody tr th {\n",
       "        vertical-align: top;\n",
       "    }\n",
       "\n",
       "    .dataframe thead th {\n",
       "        text-align: right;\n",
       "    }\n",
       "</style>\n",
       "<table border=\"1\" class=\"dataframe\">\n",
       "  <thead>\n",
       "    <tr style=\"text-align: right;\">\n",
       "      <th></th>\n",
       "      <th>business_id</th>\n",
       "      <th>name</th>\n",
       "      <th>address</th>\n",
       "      <th>city</th>\n",
       "      <th>state</th>\n",
       "      <th>zip_code</th>\n",
       "      <th>address_combined</th>\n",
       "      <th>address_combined_with_zip</th>\n",
       "    </tr>\n",
       "  </thead>\n",
       "  <tbody>\n",
       "    <tr>\n",
       "      <th>28496</th>\n",
       "      <td>28497</td>\n",
       "      <td>windsor  jewelry</td>\n",
       "      <td>16 n meridian st</td>\n",
       "      <td>indianapolis</td>\n",
       "      <td>in</td>\n",
       "      <td>46204</td>\n",
       "      <td>16 n meridian st indianapolis in</td>\n",
       "      <td>16 n meridian st indianapolis in 46204</td>\n",
       "    </tr>\n",
       "  </tbody>\n",
       "</table>\n",
       "</div>"
      ],
      "text/plain": [
       "       business_id              name           address          city state  \\\n",
       "28496        28497  windsor  jewelry  16 n meridian st  indianapolis    in   \n",
       "\n",
       "      zip_code                  address_combined  \\\n",
       "28496    46204  16 n meridian st indianapolis in   \n",
       "\n",
       "                    address_combined_with_zip  \n",
       "28496  16 n meridian st indianapolis in 46204  "
      ]
     },
     "execution_count": 135,
     "metadata": {},
     "output_type": "execute_result"
    }
   ],
   "source": [
    "df_right[df_right[\"business_id\"] == 28497]"
   ]
  },
  {
   "attachments": {},
   "cell_type": "markdown",
   "id": "e71d7ff1",
   "metadata": {},
   "source": [
    "### Examine (12023, 22650, 1.0)\n",
    "* two records also looks the same, so they are perfect match"
   ]
  },
  {
   "cell_type": "code",
   "execution_count": 136,
   "id": "dcddc0c5",
   "metadata": {},
   "outputs": [
    {
     "data": {
      "text/html": [
       "<div>\n",
       "<style scoped>\n",
       "    .dataframe tbody tr th:only-of-type {\n",
       "        vertical-align: middle;\n",
       "    }\n",
       "\n",
       "    .dataframe tbody tr th {\n",
       "        vertical-align: top;\n",
       "    }\n",
       "\n",
       "    .dataframe thead th {\n",
       "        text-align: right;\n",
       "    }\n",
       "</style>\n",
       "<table border=\"1\" class=\"dataframe\">\n",
       "  <thead>\n",
       "    <tr style=\"text-align: right;\">\n",
       "      <th></th>\n",
       "      <th>entity_id</th>\n",
       "      <th>name</th>\n",
       "      <th>address</th>\n",
       "      <th>city</th>\n",
       "      <th>state</th>\n",
       "      <th>zip_code_str</th>\n",
       "      <th>address_combined</th>\n",
       "      <th>address_combined_with_zip</th>\n",
       "    </tr>\n",
       "  </thead>\n",
       "  <tbody>\n",
       "    <tr>\n",
       "      <th>12022</th>\n",
       "      <td>12023</td>\n",
       "      <td>first nails</td>\n",
       "      <td>14418  n dale mabry hwy</td>\n",
       "      <td>tampa</td>\n",
       "      <td>fl</td>\n",
       "      <td>33618</td>\n",
       "      <td>14418  n dale mabry hwy tampa fl</td>\n",
       "      <td>14418  n dale mabry hwy tampa fl 33618</td>\n",
       "    </tr>\n",
       "  </tbody>\n",
       "</table>\n",
       "</div>"
      ],
      "text/plain": [
       "       entity_id         name                  address   city state  \\\n",
       "12022      12023  first nails  14418  n dale mabry hwy  tampa    fl   \n",
       "\n",
       "      zip_code_str                  address_combined  \\\n",
       "12022        33618  14418  n dale mabry hwy tampa fl   \n",
       "\n",
       "                    address_combined_with_zip  \n",
       "12022  14418  n dale mabry hwy tampa fl 33618  "
      ]
     },
     "execution_count": 136,
     "metadata": {},
     "output_type": "execute_result"
    }
   ],
   "source": [
    "df_left[df_left[\"entity_id\"] == 12023]"
   ]
  },
  {
   "cell_type": "code",
   "execution_count": 137,
   "id": "943590e3",
   "metadata": {},
   "outputs": [
    {
     "data": {
      "text/html": [
       "<div>\n",
       "<style scoped>\n",
       "    .dataframe tbody tr th:only-of-type {\n",
       "        vertical-align: middle;\n",
       "    }\n",
       "\n",
       "    .dataframe tbody tr th {\n",
       "        vertical-align: top;\n",
       "    }\n",
       "\n",
       "    .dataframe thead th {\n",
       "        text-align: right;\n",
       "    }\n",
       "</style>\n",
       "<table border=\"1\" class=\"dataframe\">\n",
       "  <thead>\n",
       "    <tr style=\"text-align: right;\">\n",
       "      <th></th>\n",
       "      <th>business_id</th>\n",
       "      <th>name</th>\n",
       "      <th>address</th>\n",
       "      <th>city</th>\n",
       "      <th>state</th>\n",
       "      <th>zip_code</th>\n",
       "      <th>address_combined</th>\n",
       "      <th>address_combined_with_zip</th>\n",
       "    </tr>\n",
       "  </thead>\n",
       "  <tbody>\n",
       "    <tr>\n",
       "      <th>22649</th>\n",
       "      <td>22650</td>\n",
       "      <td>first nails</td>\n",
       "      <td>14418 n dale mabry hwy</td>\n",
       "      <td>tampa</td>\n",
       "      <td>fl</td>\n",
       "      <td>33618</td>\n",
       "      <td>14418 n dale mabry hwy tampa fl</td>\n",
       "      <td>14418 n dale mabry hwy tampa fl 33618</td>\n",
       "    </tr>\n",
       "  </tbody>\n",
       "</table>\n",
       "</div>"
      ],
      "text/plain": [
       "       business_id         name                 address   city state zip_code  \\\n",
       "22649        22650  first nails  14418 n dale mabry hwy  tampa    fl    33618   \n",
       "\n",
       "                      address_combined              address_combined_with_zip  \n",
       "22649  14418 n dale mabry hwy tampa fl  14418 n dale mabry hwy tampa fl 33618  "
      ]
     },
     "execution_count": 137,
     "metadata": {},
     "output_type": "execute_result"
    }
   ],
   "source": [
    "df_right[df_right[\"business_id\"] == 22650]"
   ]
  },
  {
   "attachments": {},
   "cell_type": "markdown",
   "id": "0c1b144b",
   "metadata": {},
   "source": [
    "### The potential reason for this\n",
    "* xxxxx"
   ]
  },
  {
   "attachments": {},
   "cell_type": "markdown",
   "id": "46ba3fc2",
   "metadata": {},
   "source": [
    "# Output results to csv"
   ]
  },
  {
   "cell_type": "code",
   "execution_count": 128,
   "id": "1cca2458",
   "metadata": {},
   "outputs": [
    {
     "data": {
      "text/plain": [
       "34707722"
      ]
     },
     "execution_count": 128,
     "metadata": {},
     "output_type": "execute_result"
    }
   ],
   "source": [
    "len(match_list_difflib)"
   ]
  },
  {
   "cell_type": "code",
   "execution_count": 129,
   "id": "e1d37050",
   "metadata": {},
   "outputs": [],
   "source": [
    "# filtering the list of tuples with matching_score > 0.8\n",
    "match_list_difflib_gt_80pct = [(match[0], match[1], round(match[2], 2)) for match in match_list_difflib if match[2] > 0.8]\n",
    "match_list_difflib_gt_80pct.sort(key=lambda x: x[2], reverse=True)"
   ]
  },
  {
   "cell_type": "code",
   "execution_count": 130,
   "id": "b891d3be",
   "metadata": {},
   "outputs": [
    {
     "data": {
      "text/plain": [
       "19725"
      ]
     },
     "execution_count": 130,
     "metadata": {},
     "output_type": "execute_result"
    }
   ],
   "source": [
    "len(match_list_difflib_gt_80pct)"
   ]
  },
  {
   "cell_type": "code",
   "execution_count": 131,
   "id": "b139d215",
   "metadata": {},
   "outputs": [],
   "source": [
    "# export filtered list to a csv file\n",
    "import csv\n",
    "\n",
    "with open('matching score_difflib.csv', mode='w', newline='') as file:\n",
    "    writer = csv.writer(file)\n",
    "    writer.writerow(['entity_id', 'business_id', 'matching_score'])  # writing header row\n",
    "    writer.writerows(match_list_difflib_gt_80pct)  # writing filtered tuples"
   ]
  },
  {
   "cell_type": "code",
   "execution_count": 132,
   "id": "e5ae8a26",
   "metadata": {},
   "outputs": [
    {
     "data": {
      "text/plain": [
       "8382"
      ]
     },
     "execution_count": 132,
     "metadata": {},
     "output_type": "execute_result"
    }
   ],
   "source": [
    "len(match_list_fuzzywuzzy)"
   ]
  },
  {
   "cell_type": "code",
   "execution_count": 133,
   "id": "dff36119",
   "metadata": {},
   "outputs": [],
   "source": [
    "# export filtered list to a csv file\n",
    "import csv\n",
    "\n",
    "with open('matching score_fuzzywuzzy.csv', mode='w', newline='') as file:\n",
    "    writer = csv.writer(file)\n",
    "    writer.writerow(['entity_id', 'business_id', 'matching_score'])  # writing header row\n",
    "    writer.writerows(match_list_fuzzywuzzy)  # writing filtered tuples"
   ]
  },
  {
   "attachments": {},
   "cell_type": "markdown",
   "id": "af36702f",
   "metadata": {},
   "source": [
    "# all codes above take 3 hours to run"
   ]
  }
 ],
 "metadata": {
  "kernelspec": {
   "display_name": "victoria",
   "language": "python",
   "name": "python3"
  },
  "language_info": {
   "codemirror_mode": {
    "name": "ipython",
    "version": 3
   },
   "file_extension": ".py",
   "mimetype": "text/x-python",
   "name": "python",
   "nbconvert_exporter": "python",
   "pygments_lexer": "ipython3",
   "version": "3.11.3"
  }
 },
 "nbformat": 4,
 "nbformat_minor": 5
}
